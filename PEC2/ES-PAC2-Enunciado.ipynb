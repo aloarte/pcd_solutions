{
 "cells": [
  {
   "cell_type": "markdown",
   "id": "3cd2fea0",
   "metadata": {
    "lang": "es"
   },
   "source": [
    "<div style=\"width: 100%; clear: both;\">\n",
    "    <div style=\"float: left; width: 50%;\">\n",
    "       <img src=\"https://www.uoc.edu/portal/system/modules/edu.uoc.presentations/resources/img/branding/logo-uoc-default.png\", align=\"left\">\n",
    "    </div>\n",
    "</div>\n",
    "\n",
    "<div style=\"float: right; width: 50%;\">\n",
    "    <p style=\"margin: 0; text-align:right;\">22.503 · Programación para la ciencia de datos</p>\n",
    "    <p style=\"margin: 0; text-align:right;\">Grado en Ciencia de Datos Aplicada</p>\n",
    "    <p style=\"margin: 0; text-align:right; padding-button: 100px;\">Estudios de Informática, Multimedia y Telecomunicaciones</p>\n",
    "</div>\n",
    "\n",
    "</div>\n",
    "<div style=\"width: 100%; clear: both;\">\n",
    "<div style=\"width:100%;\"> </div>"
   ]
  },
  {
   "cell_type": "markdown",
   "id": "b140c829",
   "metadata": {
    "lang": "es"
   },
   "source": [
    "Programación para la ciencia de datos - PAC2\n",
    "============================\n",
    "\n",
    "En este Notebook encontraréis un conjunto de ejercicios que conforman la segunda actividad de evaluación continua (PAC) de la asignatura.\n",
    "\n",
    "Para cada ejercicio, tened en cuenta que:  \n",
    "\n",
    "* **Es necesario incluir comentarios** de vuestro código, que expliquen cómo ha implementado la solución del problema planteado.  \n",
    "* **Es imprescindible** citar las referencias consultadas para realizar la actividad. Se valorará que el código proporcionado solucione el problema propuesto y también la calidad del código (comentarios, legibilidad, claridad, uso de las estructuras de datos adecuadas, buena nomenclatura de las variables y funciones, seguimiento del PEP8, etc. ).\n",
    "\n",
    "Vereis que cada una de las actividades tiene asociada una puntuación, que indica el peso que tiene la actividad sobre la nota de la PAC. Adicionalmente, existe una puntuación asociada a aspectos globales de la PAC (*docstring*, modularidad y estilo), que se evaluarán sobre la totalidad del código entregado.\n",
    "\n",
    "Además, todas las actividades tienen una etiqueta, que indica los recursos necesarios para llevarla a cabo. Hay tres posibles etiquetas:\n",
    "* <span style=\"font-family: Courier New; background-color: #82b74b; color: #000000; padding: 3px; \">SM</span>   **Sólo materiales**: las herramientas necesarias para realizar la actividad se pueden encontrar en los materiales de la asignatura (consideraremos también los materiales de la asignatura Fundamentos de Programación, así como las lecturas obligatorias de material externo que se indican en los notebooks).  \n",
    "* <span style=\"font-family: Courier New; background-color: #ffcc5c; color: #000000; padding: 3px; \">EG</span>**Consulta externa guiada**: la actividad puede requerir hacer uso de herramientas que no se encuentran en los materiales de la asignatura, pero el enunciado contiene indicaciones de dónde o cómo encontrar la información adicional necesaria para resolver la actividad.  \n",
    "* <span style=\"font-family: Courier New; background-color: #f2ae72; color: #000000; padding: 3px; \">EI</span>**Consulta externa independiente**: la actividad puede requerir hacer uso de herramientas que no se encuentran en los materiales de la asignatura, y el enunciado puede no incluir la descripción de dónde o cómo encontrar esta información adicional. Será necesario que el estudiante busque esta información utilizando los recursos que se han explicado en la asignatura.\n",
    "\n",
    "Es importante notar que estas etiquetas no indican el nivel de dificultad del ejercicio, sino únicamente la necesidad de consulta de documentación externa para su resolución. Además, recuerde que las**etiquetas son informativas**, pero puede consultar referencias externas siempre que lo desee (aunque no se indique explícitamente) o puede que pueda realizar una actividad sin consultar ningún tipo de documentación. Por ejemplo, para resolver una actividad que sólo requiera los materiales de la asignatura, puede consultar referencias externas si se desea, ya sea tanto para ayudar en la resolución como para ampliar conocimientos!\n",
    "\n",
    "---"
   ]
  },
  {
   "cell_type": "markdown",
   "id": "18e15fdf",
   "metadata": {
    "lang": "es"
   },
   "source": [
    "## Criterios de corrección\n",
    "\n",
    "Esta PEC se valorará siguiendo los siguientes criterios:\n",
    "\n",
    "* **Funcionalidad** (9 puntos): Se valorará que el código implemente las funcionalidades correspondientes.\n",
    "    * Ejercicio 1 (1 punto)\n",
    "    * Ejercicio 2 (1.5 puntos)\n",
    "    * Ejercicio 3 (2.5 puntos)\n",
    "    * Ejercicio 4 (1 punto)\n",
    "    * Ejercicio 5 (3 puntos)\n",
    "\n",
    "* **Documentación** (0.25f puntos):  Todas las funciones de los ejercicios de esta PEC tendrán que estar debidamente documentadas utilizando docstrings (en el formato que prefiráis). \n",
    "* **Modularidad** (0.5f puntos): Se valorará la modularidad del código (tanto la organización del código en módulos como la creación de funciones). \n",
    "* **Estilo** (0.25f puntos): El código tiene que seguir la guía de estilo de Python (PEP8), exceptuando los casos donde hacerlo complique la legibilidad del código.\n",
    "\n",
    "Donde f es la fracción de la PEC realizada. Es decir, la nota de estos aspectos transversales será proporcional a la parte de la PEC realizada.Así, los aspectos transversales tendrán una puntuación máxima de 1 punto si se entregan todos los ejercicios de la PEC. De lo contrario, la nota de aspectos transversales se multiplicará por la fracción entregada de la PEC . Por ejemplo, si los aspectos transversales están puntuados con un 1 y sólo se ha hecho media PEC, la nota de los aspectos transversales será 1∗0.5=0.5."
   ]
  },
  {
   "cell_type": "code",
   "execution_count": 12,
   "id": "55c9db80",
   "metadata": {
    "ExecuteTime": {
     "end_time": "2024-04-24T19:00:50.689856Z",
     "start_time": "2024-04-24T19:00:50.625492Z"
    }
   },
   "outputs": [],
   "source": [
    "# Activemos las alertas de estilo\n",
    "%load_ext pycodestyle_magic\n",
    "%pycodestyle_on"
   ]
  },
  {
   "cell_type": "markdown",
   "id": "f335cee8",
   "metadata": {},
   "source": [
    "# Ejercicio 1\n",
    "\n",
    "Queremos crear una función que compruebe si un año es un año bisiesto o no.\n",
    "\n",
    "La función recibirá dos parámetros:\n",
    "- el año que queremos comprobar,\n",
    "- un parámetro **opcional** que nos indique si queremos que la función muestre por pantalla la razón por la cual el año no se considera un año bisiesto (en el caso que el año sea bisiesto, la función no deberá mostrar ningún mensaje de todas formas).\n",
    "\n",
    "La función devolverá un dato de tipo booleano (True / False)*.\n",
    "\n",
    "Según el calendario Gregoriano, un año se considera año bisiesto si cumple las siguientes condiciones:\n",
    "- Si 4 es un divisor del año, es un año bisiesto, excepto\n",
    " - Si 100 también es un divisor del año, en cuyo caso el año **NO** se considera bisiesto, excepto\n",
    "   - Si 400 también es un divisor del año, en cuyo caso el año **SÍ** se considera bisiesto.\n",
    "   \n",
    "Por ejemplo, a continuación podéis ver algunos ejemplos del resultado esperado en función del año.\n",
    "\n",
    "2000 -> True\n",
    "\n",
    "1800 -> False\n",
    "\n",
    "2100 -> False\n",
    "\n",
    "**Nota**. **No podéis utilizar la función `isleap` que hemos visto en la Unidad 1**. Aplicad la función implementada a los años indicados en la celda inferior y comprobad que el resultado es el mismo que el resultado obtenido si utilizamos la función `isleap` de Python.\n",
    "\n",
    "<span style=\"font-family: Courier New; background-color: #82b74b; color: #000000; padding: 3px; \">SM</span> **(1 punto)**"
   ]
  },
  {
   "cell_type": "code",
   "execution_count": 3,
   "id": "364f96e7",
   "metadata": {
    "ExecuteTime": {
     "end_time": "2024-04-24T18:08:59.998676Z",
     "start_time": "2024-04-24T18:08:59.990086Z"
    }
   },
   "outputs": [
    {
     "name": "stdout",
     "output_type": "stream",
     "text": [
      "The year 1800 is a not leap year because can be divisible by 4 and also by 100 but not by 400.\n",
      "Year: 1800 is leap?: False [C], False[P]\n",
      "Year: 1996 is leap?: True [C], True[P]\n",
      "Year: 2000 is leap?: True [C], True[P]\n",
      "The year 2101 is a not leap year because its not divisible by 4.\n",
      "Year: 2101 is leap?: False [C], False[P]\n",
      "Year: 2400 is leap?: True [C], True[P]\n"
     ]
    }
   ],
   "source": [
    "# Ejercicio 1\n",
    "import calendar\n",
    "\n",
    "\n",
    "def custom_is_leap(year:int,explain:bool = False):\n",
    "    \"\"\"\n",
    "    He creado 4 variables para almacenar las condiciones para comprobar si un número es bisiesto \n",
    "    con el objetivo de más adelante poder imprimir los errores en caso de no ser bisiesto.\n",
    "    La lógica sería la siguiente: (year % 4 == 0 and year % 100 != 0) or year % 400 == 0\n",
    "    \"\"\"\n",
    "    div_four = year % 4 == 0\n",
    "    not_div_one_hundred = year % 100 != 0\n",
    "    div_four_hundred = year % 400 == 0\n",
    "    leap = (div_four and not_div_one_hundred) or div_four_hundred\n",
    "    # Compruebo que la lógica para ser bisiesto se cumpla\n",
    "    if leap or div_four_hundred:\n",
    "        return True\n",
    "    else:\n",
    "        # Si no es bisiesto, compruebo si se indicó la variable para dar un motivo \n",
    "        if explain:\n",
    "            if not div_four:\n",
    "                print(f'The year {year} is a not leap year because its not divisible by 4.')\n",
    "            elif not leap:\n",
    "                print(f'The year {year} is a not leap year because can be divisible by 4 and also by 100 but not by 400.')\n",
    "            else:\n",
    "                print(f'The year {year} is a not leap year for any error.')\n",
    "            \n",
    "        return False\n",
    "\n",
    "\n",
    "years = [1800, 1996, 2000, 2101, 2400]\n",
    "\n",
    "\"\"\"\n",
    "Recorro la lista de años proporcionada para imprimir por un lado el resultado de mi función y,\n",
    "al mismo tiempo, la implementada en calendar.isleap. De esta forma puedo verificarlo.\n",
    "También incluyo un assert para que en caso de que no se cumpla con algún año de la lista\n",
    "falle, indicándome el error en mi función. [C]=Implementación Custom, [P]=Implementación Python\n",
    "\"\"\"\n",
    "for year in years:\n",
    "    print(f'Year: {year} is leap?: {custom_is_leap(year,True)} [C], {calendar.isleap(year)}[P]')\n",
    "    assert custom_is_leap(year) == calendar.isleap(year)"
   ]
  },
  {
   "cell_type": "markdown",
   "id": "1cb5a898",
   "metadata": {
    "lang": "es"
   },
   "source": [
    "# Ejercicio 2\n",
    "\n",
    "Un equipo de e-sports quiere diseñar diferentes funcionalidades para procesar información y extraer diferentes métricas utilizando la base de datos del juego de fútbol \"FIFA22\". cuyos datos se pueden encontrar en la carpeta Data/players22.csv y ha sido extraído [de este conjunto de datos.](https://www.kaggle.com/datasets/stefanoleone992/fifa-22-complete-player-dataset)\n",
    "\n",
    "- 2.1: (0,5 puntos) Dado que la empresa es inglesa tienen algunos problemas con las unidades de medida: Se pide crear dos nuevas columnas en el dataframe\n",
    "  - Una de ellas llamada \"height_inches\" (altura en pulgadas) en donde se conviertan los valores de la columna \"height_cm\" de centímetros a pulgadas (cada centímetro equivale a 0.3937 pulgadas)\n",
    "  - La otra se llamará \"weight_stones\" y se convertirán los valores de kilómetros a piedras (cada kilogramo equivale a 0,1574) piedras\n",
    "  \n",
    "- 2.2 (0,5 puntos) crear una función que se llame: \"create_dictionary_with_scores\" tome como entrada una cadena de texto en donde se indique la ubicación y el nombre del fichero \"players22.csv\" y que devuelva como parámetros de salida un diccionario cuyos valores sean el nombre corto de los jugadores y su potencial.\n",
    "\n",
    "- 2.3 (0,5 puntos) crear una función que reciva el diccionario del apartado anterior como parámetro de entrada y que devuelva otro diccionario unicamente con los nombres y los valores de los cinco jugadores con más potencial ordenados de mayor a menor.\n",
    "\n",
    "Recuerda mostrar los resultados por pantalla en cada subapartado\n",
    "\n",
    "<span style=\"font-family: Courier New; background-color: #82b74b; color: #000000; padding: 3px; \">SM</span> **(1.5 puntos)**\n",
    "\n",
    "\n"
   ]
  },
  {
   "cell_type": "code",
   "execution_count": 23,
   "id": "f08080ea",
   "metadata": {
    "ExecuteTime": {
     "end_time": "2024-04-24T18:36:21.126032Z",
     "start_time": "2024-04-24T18:36:21.090073Z"
    }
   },
   "outputs": [
    {
     "data": {
      "text/plain": "         id   short_name                   long_name  overall  potential  age  \\\n0    227246    L. Bronze  Lucia Roberta Tough Bronze       92         92   29   \n1    227316    W. Renard   Wéndèleine Thérèse Renard       92         92   30   \n2    233746   V. Miedema            Vivianne Miedema       92         93   24   \n3    227125      S. Kerr           Samantha May Kerr       91         91   27   \n4    226301    A. Morgan   Alexandra Morgan Carrasco       90         90   31   \n..      ...          ...                         ...      ...        ...  ...   \n386  261799  H. Eurlings             Hannah Eurlings       66         81   18   \n387  261856     Ana Dias  Ana Inês Costa Mendes Dias       66         75   23   \n388  263000    G. Rennie                 Gabi Rennie       66         79   19   \n389  262867     C. Nevin              Courtney Nevin       62         77   19   \n390  262868     C. Grant             Charlotte Grant       60         75   19   \n\n            dob  height_cm  weight_kg nation_position  ...  \\\n0    1991-10-28        171         67              RB  ...   \n1    1990-07-20        187         70             LCB  ...   \n2    1996-07-15        178         65              ST  ...   \n3    1993-09-10        167         55              ST  ...   \n4    1989-07-02        170         62              ST  ...   \n..          ...        ...        ...             ...  ...   \n386  2003-01-01        170         58             SUB  ...   \n387  1997-10-02        171         60             SUB  ...   \n388  2001-07-07        168         64             SUB  ...   \n389  2002-02-12        168         65             SUB  ...   \n390  2001-09-20        172         70             SUB  ...   \n\n     defending_sliding_tackle goalkeeping_diving  goalkeeping_handling  \\\n0                          89                 10                    14   \n1                          91                  7                    14   \n2                          23                 14                    16   \n3                          23                  7                    12   \n4                          27                 11                    11   \n..                        ...                ...                   ...   \n386                        34                 10                    11   \n387                        12                 12                     6   \n388                        27                  9                     7   \n389                        65                  9                    11   \n390                        60                  7                    14   \n\n     goalkeeping_kicking  goalkeeping_positioning  goalkeeping_reflexes  \\\n0                     16                        8                    15   \n1                     17                       11                    15   \n2                     17                       14                    17   \n3                      8                       16                    13   \n4                     10                       10                    11   \n..                   ...                      ...                   ...   \n386                    6                       12                     5   \n387                   11                        6                    10   \n388                    6                        5                    15   \n389                   13                       12                     7   \n390                   11                        7                    14   \n\n     goalkeeping_speed                          nation_flag_url  \\\n0                  NaN  https://cdn.sofifa.com/flags/gb-eng.png   \n1                  NaN      https://cdn.sofifa.com/flags/fr.png   \n2                  NaN      https://cdn.sofifa.com/flags/nl.png   \n3                  NaN      https://cdn.sofifa.com/flags/au.png   \n4                  NaN      https://cdn.sofifa.com/flags/us.png   \n..                 ...                                      ...   \n386                NaN      https://cdn.sofifa.com/flags/be.png   \n387                NaN      https://cdn.sofifa.com/flags/pt.png   \n388                NaN      https://cdn.sofifa.com/flags/nz.png   \n389                NaN      https://cdn.sofifa.com/flags/au.png   \n390                NaN      https://cdn.sofifa.com/flags/au.png   \n\n     height_inches  weight_stones  \n0        67.322835        10.5458  \n1        73.622047        11.0180  \n2        70.078740        10.2310  \n3        65.748031         8.6570  \n4        66.929134         9.7588  \n..             ...            ...  \n386      66.929134         9.1292  \n387      67.322835         9.4440  \n388      66.141732        10.0736  \n389      66.141732        10.2310  \n390      67.716535        11.0180  \n\n[391 rows x 59 columns]",
      "text/html": "<div>\n<style scoped>\n    .dataframe tbody tr th:only-of-type {\n        vertical-align: middle;\n    }\n\n    .dataframe tbody tr th {\n        vertical-align: top;\n    }\n\n    .dataframe thead th {\n        text-align: right;\n    }\n</style>\n<table border=\"1\" class=\"dataframe\">\n  <thead>\n    <tr style=\"text-align: right;\">\n      <th></th>\n      <th>id</th>\n      <th>short_name</th>\n      <th>long_name</th>\n      <th>overall</th>\n      <th>potential</th>\n      <th>age</th>\n      <th>dob</th>\n      <th>height_cm</th>\n      <th>weight_kg</th>\n      <th>nation_position</th>\n      <th>...</th>\n      <th>defending_sliding_tackle</th>\n      <th>goalkeeping_diving</th>\n      <th>goalkeeping_handling</th>\n      <th>goalkeeping_kicking</th>\n      <th>goalkeeping_positioning</th>\n      <th>goalkeeping_reflexes</th>\n      <th>goalkeeping_speed</th>\n      <th>nation_flag_url</th>\n      <th>height_inches</th>\n      <th>weight_stones</th>\n    </tr>\n  </thead>\n  <tbody>\n    <tr>\n      <th>0</th>\n      <td>227246</td>\n      <td>L. Bronze</td>\n      <td>Lucia Roberta Tough Bronze</td>\n      <td>92</td>\n      <td>92</td>\n      <td>29</td>\n      <td>1991-10-28</td>\n      <td>171</td>\n      <td>67</td>\n      <td>RB</td>\n      <td>...</td>\n      <td>89</td>\n      <td>10</td>\n      <td>14</td>\n      <td>16</td>\n      <td>8</td>\n      <td>15</td>\n      <td>NaN</td>\n      <td>https://cdn.sofifa.com/flags/gb-eng.png</td>\n      <td>67.322835</td>\n      <td>10.5458</td>\n    </tr>\n    <tr>\n      <th>1</th>\n      <td>227316</td>\n      <td>W. Renard</td>\n      <td>Wéndèleine Thérèse Renard</td>\n      <td>92</td>\n      <td>92</td>\n      <td>30</td>\n      <td>1990-07-20</td>\n      <td>187</td>\n      <td>70</td>\n      <td>LCB</td>\n      <td>...</td>\n      <td>91</td>\n      <td>7</td>\n      <td>14</td>\n      <td>17</td>\n      <td>11</td>\n      <td>15</td>\n      <td>NaN</td>\n      <td>https://cdn.sofifa.com/flags/fr.png</td>\n      <td>73.622047</td>\n      <td>11.0180</td>\n    </tr>\n    <tr>\n      <th>2</th>\n      <td>233746</td>\n      <td>V. Miedema</td>\n      <td>Vivianne Miedema</td>\n      <td>92</td>\n      <td>93</td>\n      <td>24</td>\n      <td>1996-07-15</td>\n      <td>178</td>\n      <td>65</td>\n      <td>ST</td>\n      <td>...</td>\n      <td>23</td>\n      <td>14</td>\n      <td>16</td>\n      <td>17</td>\n      <td>14</td>\n      <td>17</td>\n      <td>NaN</td>\n      <td>https://cdn.sofifa.com/flags/nl.png</td>\n      <td>70.078740</td>\n      <td>10.2310</td>\n    </tr>\n    <tr>\n      <th>3</th>\n      <td>227125</td>\n      <td>S. Kerr</td>\n      <td>Samantha May Kerr</td>\n      <td>91</td>\n      <td>91</td>\n      <td>27</td>\n      <td>1993-09-10</td>\n      <td>167</td>\n      <td>55</td>\n      <td>ST</td>\n      <td>...</td>\n      <td>23</td>\n      <td>7</td>\n      <td>12</td>\n      <td>8</td>\n      <td>16</td>\n      <td>13</td>\n      <td>NaN</td>\n      <td>https://cdn.sofifa.com/flags/au.png</td>\n      <td>65.748031</td>\n      <td>8.6570</td>\n    </tr>\n    <tr>\n      <th>4</th>\n      <td>226301</td>\n      <td>A. Morgan</td>\n      <td>Alexandra Morgan Carrasco</td>\n      <td>90</td>\n      <td>90</td>\n      <td>31</td>\n      <td>1989-07-02</td>\n      <td>170</td>\n      <td>62</td>\n      <td>ST</td>\n      <td>...</td>\n      <td>27</td>\n      <td>11</td>\n      <td>11</td>\n      <td>10</td>\n      <td>10</td>\n      <td>11</td>\n      <td>NaN</td>\n      <td>https://cdn.sofifa.com/flags/us.png</td>\n      <td>66.929134</td>\n      <td>9.7588</td>\n    </tr>\n    <tr>\n      <th>...</th>\n      <td>...</td>\n      <td>...</td>\n      <td>...</td>\n      <td>...</td>\n      <td>...</td>\n      <td>...</td>\n      <td>...</td>\n      <td>...</td>\n      <td>...</td>\n      <td>...</td>\n      <td>...</td>\n      <td>...</td>\n      <td>...</td>\n      <td>...</td>\n      <td>...</td>\n      <td>...</td>\n      <td>...</td>\n      <td>...</td>\n      <td>...</td>\n      <td>...</td>\n      <td>...</td>\n    </tr>\n    <tr>\n      <th>386</th>\n      <td>261799</td>\n      <td>H. Eurlings</td>\n      <td>Hannah Eurlings</td>\n      <td>66</td>\n      <td>81</td>\n      <td>18</td>\n      <td>2003-01-01</td>\n      <td>170</td>\n      <td>58</td>\n      <td>SUB</td>\n      <td>...</td>\n      <td>34</td>\n      <td>10</td>\n      <td>11</td>\n      <td>6</td>\n      <td>12</td>\n      <td>5</td>\n      <td>NaN</td>\n      <td>https://cdn.sofifa.com/flags/be.png</td>\n      <td>66.929134</td>\n      <td>9.1292</td>\n    </tr>\n    <tr>\n      <th>387</th>\n      <td>261856</td>\n      <td>Ana Dias</td>\n      <td>Ana Inês Costa Mendes Dias</td>\n      <td>66</td>\n      <td>75</td>\n      <td>23</td>\n      <td>1997-10-02</td>\n      <td>171</td>\n      <td>60</td>\n      <td>SUB</td>\n      <td>...</td>\n      <td>12</td>\n      <td>12</td>\n      <td>6</td>\n      <td>11</td>\n      <td>6</td>\n      <td>10</td>\n      <td>NaN</td>\n      <td>https://cdn.sofifa.com/flags/pt.png</td>\n      <td>67.322835</td>\n      <td>9.4440</td>\n    </tr>\n    <tr>\n      <th>388</th>\n      <td>263000</td>\n      <td>G. Rennie</td>\n      <td>Gabi Rennie</td>\n      <td>66</td>\n      <td>79</td>\n      <td>19</td>\n      <td>2001-07-07</td>\n      <td>168</td>\n      <td>64</td>\n      <td>SUB</td>\n      <td>...</td>\n      <td>27</td>\n      <td>9</td>\n      <td>7</td>\n      <td>6</td>\n      <td>5</td>\n      <td>15</td>\n      <td>NaN</td>\n      <td>https://cdn.sofifa.com/flags/nz.png</td>\n      <td>66.141732</td>\n      <td>10.0736</td>\n    </tr>\n    <tr>\n      <th>389</th>\n      <td>262867</td>\n      <td>C. Nevin</td>\n      <td>Courtney Nevin</td>\n      <td>62</td>\n      <td>77</td>\n      <td>19</td>\n      <td>2002-02-12</td>\n      <td>168</td>\n      <td>65</td>\n      <td>SUB</td>\n      <td>...</td>\n      <td>65</td>\n      <td>9</td>\n      <td>11</td>\n      <td>13</td>\n      <td>12</td>\n      <td>7</td>\n      <td>NaN</td>\n      <td>https://cdn.sofifa.com/flags/au.png</td>\n      <td>66.141732</td>\n      <td>10.2310</td>\n    </tr>\n    <tr>\n      <th>390</th>\n      <td>262868</td>\n      <td>C. Grant</td>\n      <td>Charlotte Grant</td>\n      <td>60</td>\n      <td>75</td>\n      <td>19</td>\n      <td>2001-09-20</td>\n      <td>172</td>\n      <td>70</td>\n      <td>SUB</td>\n      <td>...</td>\n      <td>60</td>\n      <td>7</td>\n      <td>14</td>\n      <td>11</td>\n      <td>7</td>\n      <td>14</td>\n      <td>NaN</td>\n      <td>https://cdn.sofifa.com/flags/au.png</td>\n      <td>67.716535</td>\n      <td>11.0180</td>\n    </tr>\n  </tbody>\n</table>\n<p>391 rows × 59 columns</p>\n</div>"
     },
     "execution_count": 23,
     "metadata": {},
     "output_type": "execute_result"
    },
    {
     "name": "stderr",
     "output_type": "stream",
     "text": [
      "13:1: W391 blank line at end of file\n"
     ]
    }
   ],
   "source": [
    "# Ejercicio 2.1\n",
    "import pandas as pd\n",
    "\n",
    "# Leo el csv a través de pandas, de la misma forma que en la PEC1\n",
    "players_df = pd.read_csv(\"Data/players22.csv\")\n",
    "\"\"\"\n",
    "Añado columnas nuevas multiplicando las columnas pedidas\n",
    "por las constantes indicadas\n",
    "\"\"\"\n",
    "players_df['height_inches'] = players_df['height_cm'] / 2.54\n",
    "players_df['weight_stones'] = players_df['weight_kg'] * 0.1574\n",
    "# Podemos ver el dataframe con la siguiente línea\n",
    "# players_df"
   ]
  },
  {
   "cell_type": "code",
   "execution_count": 13,
   "id": "685e75fb",
   "metadata": {
    "ExecuteTime": {
     "end_time": "2024-04-24T19:00:57.726271Z",
     "start_time": "2024-04-24T19:00:57.653592Z"
    }
   },
   "outputs": [
    {
     "ename": "ValueError",
     "evalue": "too many values to unpack (expected 3)",
     "output_type": "error",
     "traceback": [
      "\u001B[1;31m---------------------------------------------------------------------------\u001B[0m",
      "\u001B[1;31mValueError\u001B[0m                                Traceback (most recent call last)",
      "File \u001B[1;32m~\\PycharmProjects\\ProgramacionParaLaCienciaDeDatos\\.venv\\Lib\\site-packages\\pycodestyle_magic.py:46\u001B[0m, in \u001B[0;36mVarWatcher.auto_run_pycodestyle\u001B[1;34m(self, result)\u001B[0m\n\u001B[0;32m     45\u001B[0m \u001B[38;5;28;01mdef\u001B[39;00m \u001B[38;5;21mauto_run_pycodestyle\u001B[39m(\u001B[38;5;28mself\u001B[39m, result):\n\u001B[1;32m---> 46\u001B[0m     \u001B[43mpycodestyle\u001B[49m\u001B[43m(\u001B[49m\u001B[38;5;241;43m1\u001B[39;49m\u001B[43m,\u001B[49m\u001B[43m \u001B[49m\u001B[43mresult\u001B[49m\u001B[38;5;241;43m.\u001B[39;49m\u001B[43minfo\u001B[49m\u001B[38;5;241;43m.\u001B[39;49m\u001B[43mraw_cell\u001B[49m\u001B[43m,\u001B[49m\u001B[43m \u001B[49m\u001B[43mauto\u001B[49m\u001B[38;5;241;43m=\u001B[39;49m\u001B[38;5;28;43;01mTrue\u001B[39;49;00m\u001B[43m)\u001B[49m\n\u001B[0;32m     47\u001B[0m     \u001B[38;5;28;01mif\u001B[39;00m result\u001B[38;5;241m.\u001B[39merror_before_exec:\n\u001B[0;32m     48\u001B[0m         \u001B[38;5;28mprint\u001B[39m(\u001B[38;5;124m'\u001B[39m\u001B[38;5;124mError before execution: \u001B[39m\u001B[38;5;132;01m%s\u001B[39;00m\u001B[38;5;124m'\u001B[39m \u001B[38;5;241m%\u001B[39m result\u001B[38;5;241m.\u001B[39merror_before_exec)\n",
      "File \u001B[1;32m~\\PycharmProjects\\ProgramacionParaLaCienciaDeDatos\\.venv\\Lib\\site-packages\\pycodestyle_magic.py:175\u001B[0m, in \u001B[0;36mpycodestyle\u001B[1;34m(line, cell, auto)\u001B[0m\n\u001B[0;32m    170\u001B[0m stdout \u001B[38;5;241m=\u001B[39m sys\u001B[38;5;241m.\u001B[39mstdout\u001B[38;5;241m.\u001B[39mgetvalue()\u001B[38;5;241m.\u001B[39msplitlines()   \n\u001B[0;32m    172\u001B[0m \u001B[38;5;28;01mfor\u001B[39;00m line \u001B[38;5;129;01min\u001B[39;00m stdout:\n\u001B[0;32m    173\u001B[0m     \u001B[38;5;66;03m#logger.info(line)     \u001B[39;00m\n\u001B[0;32m    174\u001B[0m     \u001B[38;5;66;03m# on windows drive path also contains :\u001B[39;00m\n\u001B[1;32m--> 175\u001B[0m     line, col, error \u001B[38;5;241m=\u001B[39m line\u001B[38;5;241m.\u001B[39msplit(\u001B[38;5;124m'\u001B[39m\u001B[38;5;124m:\u001B[39m\u001B[38;5;124m'\u001B[39m)[\u001B[38;5;241m-\u001B[39m\u001B[38;5;241m4\u001B[39m:] \n\u001B[0;32m    176\u001B[0m     \u001B[38;5;66;03m# do not subtract 1 for line for %%pycodestyle, inc pre py3.6 string\u001B[39;00m\n\u001B[0;32m    177\u001B[0m     \u001B[38;5;28;01mif\u001B[39;00m auto:\n",
      "\u001B[1;31mValueError\u001B[0m: too many values to unpack (expected 3)"
     ]
    }
   ],
   "source": [
    "# Ejercicio 2.2\n",
    "def create_dictionary_with_scores(path:str):\n",
    "    dicts = []\n",
    "    # Es necesario el encoding para poder leer el fichero\n",
    "    with open(path, 'r', encoding='utf-8') as file:\n",
    "        # Me salto la primera línea para no leer los nombres de las tablas\n",
    "        next(file)\n",
    "        # Leo línea por línea\n",
    "        for lane in file:\n",
    "            # Divido los campos de cada línea por el carácter ','\n",
    "            valores = lane.strip().split(',')\n",
    "            # Me quedo solo con los valores de las columnas 1 y 4\n",
    "            short_name = valores[1]\n",
    "            potential = valores[4]\n",
    "            # Meto el diccionario creado en la lista de diccionarios\n",
    "            dicts.append({'short_name': short_name, 'potential': potential})\n",
    "    return dicts\n",
    "\n",
    "# Ruta del archivo CSV\n",
    "ruta_archivo = \"Data/players22.csv\"\n",
    "\n",
    "# Llamo a la función para obtener los resultados\n",
    "# resultados = create_dictionary_with_scores(ruta_archivo)\n",
    "\n",
    "# Imprime los diccionarios resultantes\n",
    "# for dicc in resultados:\n",
    "#    print(dicc)\n",
    "    "
   ]
  },
  {
   "cell_type": "code",
   "execution_count": null,
   "id": "1e39577d",
   "metadata": {},
   "outputs": [],
   "source": []
  },
  {
   "cell_type": "code",
   "execution_count": null,
   "id": "5684e6ac",
   "metadata": {},
   "outputs": [],
   "source": []
  },
  {
   "cell_type": "markdown",
   "id": "ee8fd7db",
   "metadata": {},
   "source": [
    "# Ejercicio 3\n",
    "\n",
    "Nos piden también crear una función que recorra el archivo `players22.csv`\n",
    "\n",
    "La función, llamada `create_dictionary`, recibirá como *entrada* :\n",
    "\n",
    "- La ruta que contiene el archivo de datos en formato *.csv*.\n",
    "- El nombre de una columna \"col\" que contiene datos numéricos del archivo\n",
    "\n",
    "La *salida* será un diccionario donde:\n",
    "\n",
    "- Cada clave contendrá el identificador de un País. Por ejemplo, gb-eng, nl o fr. Nota: Esta información la tiene disponible como parte de la columna \"nation_flag_url\" y es parte del trabajo de la PAC extraerla correctamente.\n",
    "\n",
    "- El valor correspondiente a cada clave será una lista de tuplas. La lista contendrá todos los jugadores que sean de la nacionalidad indicada en la clave. En cada posición de la lista se guardará una tupla con dos elementos: (short_name, col) donde encontraremos el contenido de la columna \"short_name\" y de la columna col indicada en la llamada de la función.\n",
    " \n",
    "Por ejemplo, si llamásemos la función con la ruta de archivo correcta y col = \"goalkeeping_diving\", el valor asociado a la clave \"cn\" sería:\n",
    "\n",
    "\\[('Wu Haiyan', '7'), ('Wang Shuang', '15'), ..., ('Luo Guiping', '8')\\]\n",
    "\n",
    "Notad que presentamos aquí sólo parte de la lista y que el orden dentro de la lista no es importante, por lo que es posible que obtengáis la misma lista con las tuplas en un orden diferente.\n",
    "\n",
    "**Notas importantes:**\n",
    "\n",
    "1) La información de la nacionalidad de cada jugadora se encuentra en la última columna (nation_flag_url). Notad también que esta columna contiene información que no debe ser parte de las claves de su diccionario.\n",
    "\n",
    "2) Utilizad los principios de **programación funcional** que hemos visto en teoría para resolver este ejercicio y **expresiones regulares** para extraer la nacionalidad de la url que la contiene.\n",
    "\n",
    "3) Ocasionalmente, es posible que alguno de los datos que se piden no esté disponible en el archivo. En este caso, será necesario que la posición correspondiente a este dato en la tupla de la jugadora contenga un string vacío \"\". Por este hecho, entre otros, **se desaconseja el uso de la librería Pandas para resolver este ejercicio.**\n",
    "\n",
    "4) En este notebook encontraréis una celda extra con código que puede utilizar para comprobar que la función se ejecuta correctamente con unas entradas concretas. Tened en cuenta que esto es solo una ayuda y que **es vuestra responsabilidad testar el código de manera adecuada.** En concreto, durante la corrección se llamará el código con otros parámetros.\n",
    "\n",
    "<span style=\"font-family: Courier New; background-color: #ffcc5c; color: #000000; padding: 3px; \">EG</span> **(2.5 puntos)**"
   ]
  },
  {
   "cell_type": "code",
   "execution_count": null,
   "id": "00cb2e02",
   "metadata": {},
   "outputs": [],
   "source": [
    "# Test\n",
    "filename = \"Data/players22.csv\"\n",
    "output_dictionary = create_dictionary(filename, \"goalkeeping_diving\")\n",
    "\n",
    "assert len(output_dictionary[\"fr\"]) == 23, \"Incorrect list of French players\"\n",
    "assert ('J. Groenen', '13') in output_dictionary[\"nl\"] and \\\n",
    "    ('D. van de Donk', '15') in output_dictionary[\"nl\"] and \\\n",
    "    ('S. Spitse', '16') in output_dictionary[\"nl\"], \"Missing Dutch Players\"\n",
    "print(\"Code run without problems\")"
   ]
  },
  {
   "cell_type": "code",
   "execution_count": null,
   "id": "f98fc276",
   "metadata": {},
   "outputs": [],
   "source": []
  },
  {
   "cell_type": "code",
   "execution_count": null,
   "id": "6bce9cf7",
   "metadata": {},
   "outputs": [],
   "source": []
  },
  {
   "cell_type": "code",
   "execution_count": null,
   "id": "adc01d77",
   "metadata": {},
   "outputs": [],
   "source": []
  },
  {
   "cell_type": "markdown",
   "id": "8f9850bd",
   "metadata": {},
   "source": [
    "# Ejercicio 4: \n",
    "\n",
    "Uno de los objetivos de la PEC será el tratamiento de ficheros. Cómo podéis comprobar. La carpeta `Data` contiene un fichero llamado `books.zip`.\n",
    "\n",
    "Se pide por lo tanto crear dos funciones diferentes que realicen las siguientes operaciones:\n",
    "\n",
    "- 4.1 (0,5 puntos): Escribir una función que se llame 'zip_decompression' que sea reciva dos parámetros de entrada: la ruta y el nombre del fichero zip y en donde está ubicado, y el nombre de la carpeta en donde se quiere descomprimir los archivos\n",
    "- 4.2 (0,5 puntos): Escribir una función que reciva como parámetros la ruta y el nombre de los ficheros extraídos (mobidick y warworlds) y que devuelva el tamaño de esos archivos en megabytes. Recuerda también mostrar por pantalla el resultado obtenido por esa función\n",
    "\n",
    "<span style=\"font-family: Courier New; background-color: #82b74b; color: #000000; padding: 3px; \">SM</span> **(1 punto)**"
   ]
  },
  {
   "cell_type": "code",
   "execution_count": null,
   "id": "04efa975",
   "metadata": {},
   "outputs": [],
   "source": []
  },
  {
   "cell_type": "code",
   "execution_count": null,
   "id": "a0b69a30",
   "metadata": {},
   "outputs": [],
   "source": []
  },
  {
   "cell_type": "markdown",
   "id": "c2a303b1",
   "metadata": {
    "lang": "es"
   },
   "source": [
    "# Ejercicio 5\n",
    "\n",
    "Desde la llegada de ChatGPT, el procesado de lenguaje natural \"Natural Language Processing\" se ha combertido en una de las áreas más prometedoras de la inteligencia artificial y la ciencia e datos. Parte de las técnicas que se utilizan están más allá del alcance de este curso, pero también son muy importantes algunas de las técnicas que hemos visto en estas primeras unidades de la asignatura.\n",
    "\n",
    "En concreto, en este ejercicio hemos descargado dos libros de la web del proyecto Gutenberg: [Moby Dick, Or, The Whale de Herman Melville](https://www.gutenberg.org/ebooks/2701) y [The War Of The Worlds, de H.G. Wells](https://www.gutenberg.org/ebooks/36), los hemos simplificado ligeramente y los hemos guardado en los archivos `mobyDick.txt` y `warworlds.txt` que ya deberías de tener extraídos como resultado del ejercicio anterior.\n",
    "\n",
    "En este ejercicio os pedimos que creeis una función `process_book` que reciba como entrada la ruta de un archivo de texto (formato .txt) y una expresión regular (patrón) de Python y devuelva una lista con las **frases** del archivo que contengan alguna coincidencia con el patrón.\n",
    "\n",
    "En concreto, os pedimos que encontréis:\n",
    "\n",
    "- Todas las frases del libro \"War of the Worlds\" que contienen la palabra **war** o la palabra **worlds**.\n",
    "- Todas las frases de \"Moby Dick\" que contienen palabras que empiecen por **whal**.\n",
    "\n",
    "**Notas importantes:**\n",
    "\n",
    "1) En ambos casos, será necesario que los patrones no tengan en cuenta mayúsculas y minúsculas. Por tanto, habrá que devolver las frases que contengan \"worlds\" y también las que contengan **Worlds** o **wORLdS**.\n",
    "\n",
    "2) Como parte del ejercicio, deberá separarse el texto en frases. Éste es un tema que puede llegar a ser muy complejo y por tanto en este ejercicio trabajaremos con una simplificación. En concreto, consideraremos que las frases terminarán **siempre** con un punto \".\" o con un símbolo de interrogación \"?\". Adicionalmente, el texto ha sido simplificado para no contener algunos símbolos conflictivos como los puntos suspensivos. Nótese que muchas de las frases están repartidas en más de una línea de texto. Las frases que se devuelven deben incluir, en todo caso, el símbolo de final de frase (punto \".\" o \"?\").\n",
    "\n",
    "3) Utilizad los principios de **programación funcional** que hemos visto en teoría para resolver este ejercicio y **expresiones regulares**.\n",
    "\n",
    "4) En este notebook encontraréis una celda extra con código que puede utilizar para comprobar que la función se ejecuta correctamente con unas entradas concretas. Tened en cuenta que esto es solo una ayuda y que **es vuestra responsabilidad testar el código de manera adecuada.** En concreto, durante la corrección se llamará el código con otros parámetros.\n",
    "\n",
    "\n",
    "<span style=\"font-family: Courier New; background-color: #ffcc5c; color: #000000; padding: 3px; \">EG</span> **(3 puntos)**"
   ]
  },
  {
   "cell_type": "code",
   "execution_count": null,
   "id": "4dbb80f4",
   "metadata": {},
   "outputs": [],
   "source": [
    "\n",
    "# TEST (Private)\n",
    "pattern = r'\\b(?:war|worlds)\\b'\n",
    "\n",
    "ret = process_book(\"./Data/warworlds.txt\", pattern)\n",
    "\n",
    "print(ret)\n",
    "\n",
    "assert(len(ret) == 15), \"Incorrect Number Of Sentences\"\n",
    "assert(\" I, THE EVE OF THE WAR.\" in ret), \"Missing A sentence \"\n",
    "assert(\"No one gave a thought to the older worlds of space as \\\n",
    "sources\\nof human danger, or thought of them only to dismiss \\\n",
    "the idea of life\\nupon them as impossible or improbable \\\n",
    ".\" in ret), \"Missing A sentence \"\n",
    "\n",
    "\n",
    "print(\"Code run without problems\")"
   ]
  },
  {
   "cell_type": "code",
   "execution_count": null,
   "id": "558f1171",
   "metadata": {},
   "outputs": [],
   "source": []
  }
 ],
 "metadata": {
  "kernelspec": {
   "display_name": "Python 3 (ipykernel)",
   "language": "python",
   "name": "python3"
  },
  "language_info": {
   "codemirror_mode": {
    "name": "ipython",
    "version": 3
   },
   "file_extension": ".py",
   "mimetype": "text/x-python",
   "name": "python",
   "nbconvert_exporter": "python",
   "pygments_lexer": "ipython3",
   "version": "3.11.4"
  },
  "nbTranslate": {
   "displayLangs": [
    "ja",
    "en",
    "es"
   ],
   "hotkey": "alt-t",
   "langInMainMenu": true,
   "sourceLang": "ca",
   "targetLang": "es",
   "useGoogleTranslate": true
  }
 },
 "nbformat": 4,
 "nbformat_minor": 5
}
