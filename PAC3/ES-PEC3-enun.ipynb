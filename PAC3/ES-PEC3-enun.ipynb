{
 "cells": [
  {
   "cell_type": "markdown",
   "metadata": {
    "id": "ciZKmqSXkYK8"
   },
   "source": [
    "<div style=\"width: 100%; clear: both;\">\n",
    "    <div style=\"float: left; width: 50%;\">\n",
    "       <img src=\"http://www.uoc.edu/portal/_resources/common/imatges/marca_UOC/UOC_Masterbrand.jpg\", align=\"left\">\n",
    "    </div>\n",
    "</div>\n",
    "\n",
    "<div style=\"float: right; width: 50%;\">\n",
    "    <p style=\"margin: 0; padding-top: 22px; text-align:right;\">22.503 · Programación para la ciencia de datos</p>\n",
    "    <p style=\"margin: 0; text-align:right;\">Grado en Ciencia de Datos Aplicada</p>\n",
    "    <p style=\"margin: 0; text-align:right; padding-button: 100px;\">Estudios de Informática, Multimedia y Telecomunicaciones</p>\n",
    "</div>\n",
    "\n",
    "</div>\n",
    "<div style=\"width: 100%; clear: both;\">\n",
    "<div style=\"width:100%;\">&nbsp;</div>"
   ]
  },
  {
   "cell_type": "markdown",
   "metadata": {
    "id": "HMIEK_5PkYK9"
   },
   "source": [
    "Programación para la ciencia de datos - PEC3\n",
    "============================\n",
    "\n",
    "En este Notebook encontraréis un conjunto de ejercicios que suponen la tercera prueba de evaluación continua (PEC) de la asignatura.\n",
    "\n",
    "Para cada ejercicio, tened en cuenta que:\n",
    "* **Es necesario incluir comentarios** de vuestro código que expliquen como habéis implementado la solución del problema planteado.\n",
    "* **Es imprescindible** citar las referencias que habéis consultado para realizar la actividad.\n",
    "* Se valorará que el código proporcionado solucione el problema propuesto así como su calidad (comentarios, legibilidad, claridad, uso de las estructuras de datos adecuadas, buena nomenclatura de las variables y funciones, seguimiento del PEP8, etc.).\n",
    "\n",
    "Veréis que cada una de las actividades tiene asociada una puntuación que indica el peso que tiene la actividad sobre la nota de la PEC.\n",
    "\n",
    "Además, veréis que todas las actividades tienen una etiqueta que indica los recursos necesarios para llevarla a cabo. Hay tres posibles etiquetas:\n",
    "\n",
    "* <span style=\"font-family: Courier New; background-color: #82b74b; color: #000000; padding: 3px; \">SM</span> **Solo materiales**: las herramientas necesarias para realizar la actividad se pueden encontrar en los materiales de la asignatura (consideraremos también los materiales de la asignatura Fundamentos de Programación, así como las lecturas obligatorias de material externo que se indiquen en los notebooks).\n",
    "\n",
    "* <span style=\"font-family: Courier New; background-color: #ffcc5c; color: #000000; padding: 3px; \">EG</span> **Consulta externa guiada**: la actividad puede requerir el uso de herramientas que no se encuentren en los materiales de la asignatura, pero el enunciado contiene indicaciones de dónde o cómo encontrar la información adicional necesaria para resolver la actividad.\n",
    "\n",
    "* <span style=\"font-family: Courier New; background-color: #f2ae72; color: #000000; padding: 3px; \">EI</span> **Consulta externa independiente**: la actividad puede requerir el uso de herramientas que no se encuentren en los materiales de la asignatura, y el enunciado puede no incluir la descripción de dónde o cómo encontrar esta información adicional. Será necesario que el estudiante busque esta información usando los recursos explicados en la asignatura.\n",
    "\n",
    "Es importante notar que estas etiquetas no indican el nivel de dificultad del ejercicio, sino únicamente la necesidad de consulta de documentación externa para su resolución. Además, recordad que las **etiquetas son informativas**, pero podréis consultar referencias externas siempre que queráis (aunque no se indique explícitamente) o puede que podáis hacer una actividad sin consultar ningún tipo de documentación. Por ejemplo, para resolver una actividad que solo requiera los materiales de la asignatura, podéis consultar referencias externas si queréis, ¡ya sea tanto para ayudaros en su resolución como para ampliar conocimiento!\n",
    "\n",
    "**Importante**: Además de la puntuación de cada ejercicio, que valora la calidad de la solución que proponéis y los resultados obtenidos, en esta PEC se valoran 3 aspectos adicionales, transversales a todas las actividades:\n",
    "\n",
    "* **Documentación** (**0.25*f puntos**): Todas las funciones de los ejercicios de esta PEC deberán estar correctamente documentadas utilizando *docstrings* (en el formato que prefiráis).\n",
    "\n",
    "* **Modularidad** (**0.5*f puntos**): Se valorará la modularidad del código (la correcta estructuración del código en funciones).\n",
    "\n",
    "* **Estilo** (**0.25*f puntos**): El código tiene que seguir la guía de estilo de Python [PEP8](https://www.python.org/dev/peps/pep-0008/), exceptuando los casos donde hacerlo complique la legibilidad del código.\n",
    "\n",
    "Donde $f$ es la fracción de la PEC realizada. Es decir, la nota de estos aspectos transversales será proporcional a la parte de la PEC realizada.\n",
    "\n",
    "Así, los aspectos transversales tendrán una puntuación máxima de 1 punto si se entregan todos los ejercicios de la PEC. En caso contrario, la nota de aspectos transversales se multiplicará por la fracción de la PEC entregada. Por ejemplo, si los aspectos transversales están puntuados con un 1 pero solo hay la mitad de la PEC entregada, la nota de aspectos transversales será $1*0.5=0.5$."
   ]
  },
  {
   "cell_type": "markdown",
   "metadata": {
    "id": "ef0129pFkYK9"
   },
   "source": [
    "---\n",
    "\n",
    "## Antes de empezar\n",
    "\n",
    "Leed atentamente los párrafos que siguen, relacionados con la originalidad en las actividades, antes de empezar a trabajar en la PEC. Si os surge cualquier duda dirigiros al profesor colaborador de la asignatura antes de continuar con la actividad.\n",
    "\n",
    "<div class=\"alert alert-block alert-success\"> La falta de originalidad se produce cuando en una actividad aparece contenido que no ha sido elaborado de forma individual por el estudiante y no se referencia adecuadamente su origen. O bien cuando, aunque el contenido externo esté referenciado, este es tan extenso que no es posible considerar al estudiante el autor o autora de la actividad.\n",
    "<br /><br />\n",
    "Así, algunos ejemplos de comportamientos inadecuados debido a falta de originalidad son:\n",
    "<ol>\n",
    "    <li>Crear la solución de un ejercicio de la PEC en colaboración entre diversos estudiantes.</li>\n",
    "    <li>Incluir un ejercicio de la PEC que utiliza código encontrado en internet sin citar la fuente.</li>\n",
    "    <li>Compartir vuestra solución de la PEC con otros estudiantes de la asignatura.</li>\n",
    "    </ol>\n",
    "</div>\n",
    "\n",
    "## Instrucciones de entrega\n",
    "\n",
    "Para proceder a la entrega de la actividad es necesario realizar los siguientes pasos:\n",
    "\n",
    "1. Comprobad que el notebook se ejecuta correctamente en la máquina virtual. Es importante que antes de entregar vuestra PEC os aseguréis que la versión final del código ejecuta correctamente en su totalidad. Para ello, se recomienda hacer una ejecución completa desde cero del notebook haciendo click en *Kernel &gt; Restart & Run All* y comprobando que todas las celdas del notebook se ejecutan correctamente.\n",
    "2. Activad las alertas de estilo y comprobad que el código sigue las convenciones de estilo de Python. Si es necesario, modificad el código para adecuarlo a dichas convenciones de estilo.\n",
    "3. Confirmad que sois los autores únicos de la PEC y que esta incluye todas las citas a recursos externos que se hayan utilizado para elaborarla. Con el fin de confirmar que sois los autores únicos de la actividad, añadid vuestro nombre completo en la celda siguiente.\n",
    "4. Cread un archivo comprimido que incluya todos los archivos de la PEC (tanto el fichero con el notebook, con extensión .ipynb, como las carpetas con los datos que sean necesarios para ejecutarlo). Aseguraos de que se puede descomprimir este archivo en cualquier directorio del ordenador y que el código se ejecuta sin problemas.\n",
    "5. Entregad la PEC a través del Registro de Evaluación Continua del aula."
   ]
  },
  {
   "cell_type": "markdown",
   "metadata": {
    "id": "ok8wsTRJkYK9"
   },
   "source": [
    "<div class=\"alert alert-block alert-warning\">Yo, *Álvaro Loarte Rodríguez*, confirmo que he elaborado de forma individual todas las actividades resueltas en esta PEC y que he incluido las citas a todas las fuentes externas que he utilizado para resolver las actividades. </div>"
   ]
  },
  {
   "cell_type": "code",
   "execution_count": 1,
   "metadata": {
    "id": "K2hTknZ0kYK-"
   },
   "outputs": [],
   "source": [
    "%load_ext pycodestyle_magic"
   ]
  },
  {
   "cell_type": "markdown",
   "metadata": {
    "id": "RQhaIamMkYK-"
   },
   "source": [
    "Podéis activar las alertas de estilo descomentando la línea de código siguiente. Hemos detectado algunos errores en ciertas construcciones de código al ejecutar este módulo. Si al descomentar esta línea el código se generan errores en algún bloque de código, puede ser debido a que a veces pycodestyle no informa correctamente del problema de estilo detectado, sino que genera una excepción. Podéis revisar la guía de estilos de PEP8 para intentar detectar la instrucción que no cumple la guía o contactar con el profesor colaborador de vuestra aula para valorar alternativas."
   ]
  },
  {
   "cell_type": "code",
   "execution_count": 2,
   "metadata": {
    "id": "Kf4Xfqe_kYK-"
   },
   "outputs": [],
   "source": [
    "# Activamos las alertas de estilo\n",
    "#%pycodestyle_on"
   ]
  },
  {
   "cell_type": "markdown",
   "metadata": {
    "id": "Cl3FK-JWkYK-"
   },
   "source": [
    "---\n",
    "\n",
    "## Ejercicio 1\n",
    "\n",
    "Contestad brevemente las siguientes preguntas.\n",
    "\n",
    "1. Ordenad las siguientes funciones en función de su orden de crecimiento, considerando en primer lugar las que tienen un orden de crecimiento inferior. (**0.5 puntos**)\n",
    "\n",
    "  - $3^{2n}$\n",
    "  - $n^4 + 2*n$\n",
    "  - $log(n)$\n",
    "  - $n*log(n)$\n",
    "  - $2*n^2 + 3*n + 4$\n",
    "  - $1^n$\n",
    "  - $e^n$"
   ]
  },
  {
   "cell_type": "markdown",
   "metadata": {
    "id": "-K0ESonSkYK-"
   },
   "source": [
    "**Respuesta**\n",
    "  - $1^n$ - $\\Theta{(1)} $: algoritmo de tiempo constante\n",
    "  - $log(n)$ - $\\Theta{(log(n))} $: algoritmo logarítmico\n",
    "  - $n*log(n)$ - $\\Theta{(n*log(n))} $: algoritmo casi-lineal\n",
    "  - $2*n^2 + 3*n + 4$ - $\\Theta{(n^2)} $: algoritmo cuadrático\n",
    "  - $n^4 + 2*n$ - $\\Theta{(n^a)} $: algoritmo multinomial (a> 2)\n",
    "  - $e^n$ - $\\Theta{(e^n)} $: algoritmo exponencial con base e\n",
    "  - $3^{2n} - $\\Theta{(e^n)} $: algoritmo exponencial con base 3 > e\n",
    "\n",
    "Según la documentación del módulo 4-Optimización, complejidad y profiling, he reconocido cada uno de los algoritmos. En esta web he podido ver la representación\n",
    "de cada una de las funciones y, con ello, he ordenado las funciones por orden de crecimiento analizando su comportamiento asintótico.\n",
    "\n",
    "https://es.symbolab.com/solver/hyperbola-asymptotes-calculator\n"
   ]
  },
  {
   "cell_type": "markdown",
   "metadata": {
    "id": "Eq-2sLOlkYK-"
   },
   "source": [
    "2. Determinad que pares de funciones presentan un orden de crecimiento similar entre los dos conjuntos siguientes. (**0.5 puntos**)\n",
    "\n",
    "  Conjunto (a)\n",
    "  - $log_2(3n) + 10$\n",
    "  - $9n*log_{10}(n)$\n",
    "  - $2n + log(n)$\n",
    "  - $6n^2 + 2$\n",
    "\n",
    "  Conjunto (b)\n",
    "  - $n$\n",
    "  - $log_{10}(n)$\n",
    "  - $n^2 - 1$\n",
    "  - $n*log_2(2n)$"
   ]
  },
  {
   "cell_type": "markdown",
   "metadata": {
    "id": "RTu5BaIokYK_"
   },
   "source": [
    "**Respuesta**\n",
    "Lo primero que necesito hacer es descomponer cada función en elementos más simples para analizar el orden de las mismas:\n",
    "Conjunto (a)\n",
    "  - $log_2(3n) + 10$ = log_2(3) + log_2(n) = El logaritmo de un número es constante, esencialmente esto es $\\Theta{(log(n))} $\n",
    "  - $9n*log_{10}(n)$ = Esto es un algoritmo lineal mas uno logarítmico, del orden de $\\Theta{(n*log(n))} $  \n",
    "  - $2n + log(n)$ = 2n domina el algoritmo, ya que log(n) tiene un crecimiento asintótico muy reducido. Es del orden de $\\Theta{(n)}$ \n",
    "  - $6n^2 + 2$ = Es un algoritmo cuadrático, $\\Theta{(n^2)} $\n",
    "\n",
    "  Conjunto (b)\n",
    "  - $n$ =   $\\Theta{(n)} $\n",
    "  - $log_{10}(n)$ = $\\Theta{(log(n))} $\n",
    "  - $n^2 - 1$ =  Es un algoritmo cuadrático, $\\Theta{(n^2)} $\n",
    "  - $n*log_2(2n)$ = $\\Theta{(n*log(n))} $\n",
    "  \n",
    "Por tanto, quedaría de la siguiente forma:\n",
    "  - A1 - B2: $\\Theta{(log(n))} $\n",
    "  - A2 - B4: $\\Theta{(n*log(n))} $\n",
    "  - A3 - B1: $\\Theta{(n)} $ \n",
    "  - A4 - B3: $\\Theta{(n^2)} $\n",
    "    "
   ]
  },
  {
   "cell_type": "markdown",
   "metadata": {
    "id": "LlKublbekYK_"
   },
   "source": [
    "## Ejercicio 2\n",
    "\n",
    "Estudiad la complejidad algoritmica, considerando el caso peor, en relación al tiempo de ejecución del algoritmo de ordenación por selección. ¿Podemos utilizar la notación $\\Theta$ para referirnos a la complejidad del código analizado? En caso afirmativo, mostrad gráficamente el orden de crecimiento de la función juntamente con una función que haga de límite superior y otra que haga de límite inferior.\n",
    "\n",
    "**Nota**: Recordad repasar la sección 2.2.3. Notaciones y definiciones formales del Notebook de teoría.\n",
    "\n",
    "<span style=\"font-family: Courier New; background-color: #82b74b; color: #000000; padding: 3px; \">NM</span> **(2 puntos)**"
   ]
  },
  {
   "cell_type": "code",
   "execution_count": 3,
   "metadata": {
    "ExecuteTime": {
     "end_time": "2024-05-22T18:02:14.453640Z",
     "start_time": "2024-05-22T18:02:14.447165Z"
    },
    "id": "XV7FjP3gkYK_"
   },
   "outputs": [],
   "source": [
    "def sort_selection(list_1):\n",
    "    \"\"\"\n",
    "    Sorts a list using the selection sort algorithm.\n",
    "    Args:\n",
    "        list (list): The list you want to sort.\n",
    "    Returns:\n",
    "        list: The ordered list.\n",
    "    \"\"\"\n",
    "    n = len(list_1)\n",
    "    for i in range(n):\n",
    "        min_index = i\n",
    "        for j in range(i + 1, n):\n",
    "            if list_1[j] < list_1[min_index]:\n",
    "                min_index = j\n",
    "        list_1[i], list_1[min_index] = list_1[min_index], list_1[i]\n",
    "    return list_1"
   ]
  },
  {
   "cell_type": "markdown",
   "metadata": {
    "id": "ZsROl3l6kYK_"
   },
   "source": [
    "**Respuesta**\n"
   ]
  },
  {
   "cell_type": "code",
   "execution_count": 4,
   "metadata": {
    "ExecuteTime": {
     "end_time": "2024-05-22T18:02:29.471485Z",
     "start_time": "2024-05-22T18:02:29.078164Z"
    },
    "id": "5Belpj4vkYK_"
   },
   "outputs": [
    {
     "data": {
      "image/png": "[encoded data removed]",
      "text/plain": [
       "<Figure size 640x480 with 1 Axes>"
      ]
     },
     "metadata": {},
     "output_type": "display_data"
    }
   ],
   "source": [
    "# El peor caso para este algoritmo sería que la lista esté ordenada justo en el orden inverso. Puesto que el bucle exterior itera N veces (una por cada elemento)\n",
    "# y el interior va haciendo en cada un de las N externas M-1, M-2 hasta 1 comparaciones, la complejidad de este algorítmo sería de N*N:  $\\Theta{(n^2)} $\n",
    "\n",
    "# Podemos calcular el peor caso como (n-1)+(n-2)+...+1 \n",
    "\n",
    "# Importo las librerías necesarias\n",
    "import time\n",
    "import matplotlib.pyplot as plt\n",
    "import numpy as np\n",
    "\n",
    "# Para representar gráficamente el orden de crecimiento he creado unos ejemplos. Voy a generar listas de números aleatorios del 0 al 1000 (de manera arbitraria) \n",
    "# y de tamaños diferentes, incrementando el tamaño de las listas a ordenar.\n",
    "sizes = [100,200,300,400,500,600,700,800,900,1000]\n",
    "times = []\n",
    "times_upper = []\n",
    "times_lower = []\n",
    "\n",
    "for size in sizes:\n",
    "    test_list = np.random.randint(1, 1000, size).tolist()\n",
    "    test_list_lower = list(range(1000)) #del 0 al 1000\n",
    "    test_list_upper = list(range(1000, -1, -1)) # del 1000 al 0\n",
    "    # Tomo el tiempo inicial\n",
    "    start_time = time.time()\n",
    "    sort_selection(test_list)\n",
    "    # Y el tiempo final de cada ejecución sobre cada una de las 10 listas aleatorias.\n",
    "    end_time = time.time()\n",
    "    times.append(end_time - start_time)\n",
    "\n",
    "# Hago el gráfico de los resultados de los tiempos medidos\n",
    "plt.plot(sizes, times, label='Tiempo de ejecución (selection sort)', marker='o')\n",
    "\n",
    "# Los límites superior e inferior podrían ser el eje X y el Y ya que nunca se va a dar que tenga\n",
    "# un tiempo negativo o un numero negativo de elementos\n",
    "plt.xlabel('Tamaño de la lista (n)')\n",
    "plt.ylabel('Tiempo de ejecución (segundos)')\n",
    "plt.title('Orden de crecimiento de Selection Sort')\n",
    "plt.legend()\n",
    "plt.show()"
   ]
  },
  {
   "cell_type": "markdown",
   "metadata": {
    "id": "LVfc_yR3kYK_"
   },
   "source": [
    "## Ejercicio 3\n",
    "\n",
    "En este ejercicio, analizaréis un fragmento de código con el objetivo de detectar las ineficiencias y después mejorarlo.\n",
    "\n",
    "1. Utilizando las herramientas de *profiling* que hemos visto en el Notebook de teoría, analizad el siguiente fragmento de código ineficiente y encontrad cual es el cuello de botella. Explicad las ineficiencias que habéis detectado, relacionándolas con los resultados obtenidos en el *profiling*.\n",
    "\n",
    "2. Mejorad el código con el objetivo de reducir el tiempo de ejecución. Comprobad que el resultado de vuestra propuesta es equivalente al original.\n",
    "\n",
    "Para conseguir la puntuación máxima es importante explicar las ineficiencias detectadas tal y como se pide en el punto 1. No basta con mejorar el código.\n",
    "\n",
    "**Nota**: Para resolver el ejercicio no podéis utilizar librerías como `pandas` o `numpy` que incorporan una funcionalidad similar.\n",
    "\n",
    "<span style=\"font-family: Courier New; background-color: #ffcc5c; color: #000000; padding: 3px; \">EG</span> **(1.5 puntos)**"
   ]
  },
  {
   "cell_type": "code",
   "execution_count": 5,
   "metadata": {
    "ExecuteTime": {
     "end_time": "2024-05-22T18:07:22.183460Z",
     "start_time": "2024-05-22T18:07:22.177337Z"
    },
    "id": "zqDdKmk5kYK_"
   },
   "outputs": [],
   "source": [
    "text = \"In the year 2024, the population of Earth reached a staggering 8 billion people. Among them, 3.5 billion had access to the internet, connecting through approximately 2.5 billion smartphones worldwide. The global economy grew by 3.2%, reaching a GDP of $92 trillion. However, amidst this growth, there were challenges: 1.2 billion people still lived below the poverty line, while carbon emissions rose by 5% compared to the previous year, reaching 40 billion metric tons. Despite these figures, there were signs of progress, with renewable energy sources accounting for 30% of the total energy consumption. As we move forward, these numbers serve as both a measure of achievement and a reminder of the work that lies ahead.\"*10000"
   ]
  },
  {
   "cell_type": "code",
   "execution_count": 6,
   "metadata": {
    "ExecuteTime": {
     "end_time": "2024-05-22T18:09:53.447804Z",
     "start_time": "2024-05-22T18:09:53.439885Z"
    },
    "id": "lWR_szyxkYLA"
   },
   "outputs": [],
   "source": [
    "def count_digits(string):\n",
    "    \"\"\"Returns the number of digits in a text.\n",
    "\n",
    "    Args:\n",
    "        string: a text string.\n",
    "\n",
    "    Returns:\n",
    "        Number of digits.\n",
    "    \"\"\"\n",
    "    digits = 0\n",
    "    for i in range(len(string)):\n",
    "        if string[i] == '0':\n",
    "            digits += 1\n",
    "        if string[i] == '1':\n",
    "            digits += 1\n",
    "        if string[i] == '2':\n",
    "            digits += 1\n",
    "        if string[i] == '3':\n",
    "            digits += 1\n",
    "        if string[i] == '4':\n",
    "            digits += 1\n",
    "        if string[i] == '5':\n",
    "            digits += 1\n",
    "        if string[i] == '6':\n",
    "            digits += 1\n",
    "        if string[i] == '7':\n",
    "            digits += 1\n",
    "        if string[i] == '8':\n",
    "            digits += 1\n",
    "        if string[i] == '9':\n",
    "            digits += 1\n",
    "\n",
    "    return digits"
   ]
  },
  {
   "cell_type": "markdown",
   "metadata": {
    "id": "ifHGI94YkYLA"
   },
   "source": [
    "**Respuesta**\n"
   ]
  },
  {
   "cell_type": "code",
   "execution_count": 7,
   "metadata": {
    "ExecuteTime": {
     "end_time": "2024-05-22T18:39:07.827124Z",
     "start_time": "2024-05-22T18:38:48.930806Z"
    },
    "id": "qHysppD9kYLA"
   },
   "outputs": [
    {
     "name": "stdout",
     "output_type": "stream",
     "text": [
      "Tiempo ejecutando count_digits sin optimizar\n",
      "CPU times: user 2.8 s, sys: 94.5 ms, total: 2.89 s\n",
      "Wall time: 2.99 s\n",
      "Resultado count digit original: 200000\n",
      "Tiempo ejecutando count_digits tras la primera optimización\n",
      "CPU times: user 1.48 s, sys: 0 ns, total: 1.48 s\n",
      "Wall time: 1.48 s\n",
      "Resultado count_digit_opt1: 200000\n",
      "Tiempo ejecutando count_digits tras la segunda optimización\n",
      "CPU times: user 413 ms, sys: 31.9 ms, total: 445 ms\n",
      "Wall time: 511 ms\n",
      "Resultado count_digit_opt1: 200000\n"
     ]
    }
   ],
   "source": [
    "import time\n",
    "\n",
    "print(\"Tiempo ejecutando count_digits sin optimizar\")\n",
    "%time count_digits(text)\n",
    "print(f'Resultado count digit original: {count_digits(text)}')\n",
    "# %load_ext line_profiler\n",
    "\n",
    "# Con lprun extraigo la información de cuántas veces está siendo ejecutada cada línea\n",
    "#%lprun -f count_digits count_digits(text)\n",
    "\n",
    "\"\"\"\n",
    "\n",
    "Line #      Hits         Time  Per Hit   % Time  Line Contents\n",
    "==============================================================\n",
    "     1                                           def count_digits(string):\n",
    "     2                                               Returns the number of digits in a text.\n",
    "     3                                           \n",
    "     4                                               Args:\n",
    "     5                                                   string: a text string.\n",
    "     6                                           \n",
    "     7                                               Returns:\n",
    "     8                                                   Number of digits.\n",
    "     9                                               \n",
    "    10         1          9.0      9.0      0.0      digits = 0\n",
    "    11   7220001   27847278.0      3.9      9.5      for i in range(len(string)):\n",
    "    12   7220000   24557620.0      3.4      8.4          if string[i] == '0':\n",
    "    13     30000      97895.0      3.3      0.0              digits += 1\n",
    "    14   7220000   25525429.0      3.5      8.7          if string[i] == '1':\n",
    "    15     10000      39468.0      3.9      0.0              digits += 1\n",
    "    16   7220000   25656276.0      3.6      8.8          if string[i] == '2':\n",
    "    17     60000     211898.0      3.5      0.1              digits += 1\n",
    "    18   7220000   25523764.0      3.5      8.7          if string[i] == '3':\n",
    "    19     30000     117005.0      3.9      0.0              digits += 1\n",
    "    20   7220000   25555314.0      3.5      8.7          if string[i] == '4':\n",
    "    21     20000      69782.0      3.5      0.0              digits += 1\n",
    "    22   7220000   25387705.0      3.5      8.7          if string[i] == '5':\n",
    "    23     30000     106260.0      3.5      0.0              digits += 1\n",
    "    24   7220000   25163058.0      3.5      8.6          if string[i] == '6':\n",
    "    25                                                       digits += 1\n",
    "    26   7220000   27200594.0      3.8      9.3          if string[i] == '7':\n",
    "    27                                                       digits += 1\n",
    "    28   7220000   28980016.0      4.0      9.9          if string[i] == '8':\n",
    "    29     10000      34834.0      3.5      0.0              digits += 1\n",
    "    30   7220000   30121313.0      4.2     10.3          if string[i] == '9':\n",
    "    31     10000      38753.0      3.9      0.0              digits += 1\n",
    "    32                                           \n",
    "    33         1         17.0     17.0      0.0      return digits\n",
    "\"\"\"\n",
    "\n",
    "# Tras ejecutar lprun podemos ver que la totalidad del tiempo se reparte entre cada linea que contiene el if\n",
    "# y cada vez que se pasa por el bucle for. Calcular el rango numérico a través de la función len() en sí ya\n",
    "# va a demorar al tener que contar los caracteres del input. También es ineficiente la forma de consultar \n",
    "# continuamente el array string en la posición dada. \n",
    "# \n",
    "# La primera optimización (count_digits_opt1) trabajará sobre la forma de recorrer el array caracter a caracter\n",
    "# sin tener que contar el número de elementos ni sin tener que consultar el valor del array de entrada.\n",
    "def count_digits_opt1(string):\n",
    "    digits = 0\n",
    "    for char in string:\n",
    "        if char == '0':\n",
    "            digits += 1\n",
    "        if char == '1':\n",
    "            digits += 1\n",
    "        if char == '2':\n",
    "            digits += 1\n",
    "        if char == '3':\n",
    "            digits += 1\n",
    "        if char == '4':\n",
    "            digits += 1\n",
    "        if char == '5':\n",
    "            digits += 1\n",
    "        if char == '6':\n",
    "            digits += 1\n",
    "        if char == '7':\n",
    "            digits += 1\n",
    "        if char == '8':\n",
    "            digits += 1\n",
    "        if char == '9':\n",
    "            digits += 1\n",
    "\n",
    "    return digits\n",
    "print(\"Tiempo ejecutando count_digits tras la primera optimización\")\n",
    "%time count_digits_opt1(text)\n",
    "print(f'Resultado count_digit_opt1: {count_digits_opt1(text)}')\n",
    "\n",
    "# La segunda optimización la haré reduciendo el número de comparaciones de 10 a una sola para ver si el carácter\n",
    "# está comprendido entre 0 y 9. Solo con este cambio se consigue una reducción bastante grande del tiempo de ejecución\n",
    "\n",
    "def count_digits_opt2(string):\n",
    "    digits = 0\n",
    "    for char in string:\n",
    "        if '0' <= char <= '9':\n",
    "            digits += 1\n",
    "\n",
    "    return digits\n",
    "\n",
    "print(\"Tiempo ejecutando count_digits tras la segunda optimización\")\n",
    "%time count_digits_opt2(text)\n",
    "print(f'Resultado count_digit_opt1: {count_digits_opt2(text)}')\n",
    "\n",
    "# Como se ve, el tiempo ha pasado de alrededor de 3 segundos a 0.5 segundos"
   ]
  },
  {
   "cell_type": "markdown",
   "metadata": {
    "id": "gibtv9-vkYLA"
   },
   "source": [
    "## Ejercicio 4\n",
    "\n",
    "En este ejercicio, analizaréis un fragmento de código con el objetivo de detectar las ineficiencias y después mejorarlo.\n",
    "\n",
    "1. Utilizando las herramientas de *profiling* que hemos visto en el Notebook de teoría, analizad el siguiente fragmento de código ineficiente y encontrad cual es el cuello de botella. Explicad las ineficiencias que habéis detectado, relacionándolas con los resultados obtenidos en el *profiling*.\n",
    "\n",
    "2. Mejorad el código con el objetivo de reducir el tiempo de ejecución. Comprobad que el resultado de vuestra propuesta es equivalente al original.\n",
    "\n",
    "Para conseguir la puntuación máxima es importante explicar las ineficiencias detectadas tal y como se pide en el punto 1. No basta con mejorar el código.\n",
    "\n",
    "<span style=\"font-family: Courier New; background-color: #ffcc5c; color: #000000; padding: 3px; \">EG</span> **(1.5 puntos)**"
   ]
  },
  {
   "cell_type": "code",
   "execution_count": 8,
   "metadata": {
    "ExecuteTime": {
     "end_time": "2024-05-22T18:43:11.713217Z",
     "start_time": "2024-05-22T18:43:11.708415Z"
    },
    "id": "5hthA4lYkYLA"
   },
   "outputs": [],
   "source": [
    "def repetitions(array):\n",
    "    \"\"\"Returns repeated elements in the array.\n",
    "\n",
    "    Parameters:\n",
    "        array: input array for counting repeated elements.\n",
    "\n",
    "    Returns:\n",
    "        list: list of duplicate elements.\n",
    "\n",
    "    \"\"\"\n",
    "\n",
    "    repeated = []\n",
    "    i = 0\n",
    "\n",
    "    while i < len(array):\n",
    "        j = i + 1\n",
    "        while j < len(array):\n",
    "            if array[i] == array[j]:\n",
    "\n",
    "                counted = False\n",
    "                for item in repeated:\n",
    "                    if item == array[i]:\n",
    "                        counted = True\n",
    "                        break\n",
    "\n",
    "                if not counted:\n",
    "                    repeated.append(array[i])\n",
    "\n",
    "            j = j + 1\n",
    "\n",
    "        i = i + 1\n",
    "\n",
    "    return repeated"
   ]
  },
  {
   "cell_type": "markdown",
   "metadata": {
    "id": "I5JllGQ1kYLA"
   },
   "source": [
    "**Respuesta**    \n",
    "\n",
    "\n",
    "Como se ve en el análisis, es un código que tiene tres bucles anidados que incrementan mucho el tiempo.\n",
    "El bucle while exterior el algoritmo tendrá que mantenerlo, ya que de alguna forma tiene que recorrerse la lista.\n",
    "Los bucles interiores son un poco ineficientes, puesto que se llevan una gran parte del tiempo. También lo hace el \n",
    "llevar el conteo de los índices 'i' y 'j', donde para cada iteración tiene que recalcular el valor de la variable.\n",
    "Aumentar la variable 'i' es apenas costoso porque solo se hace 10000 veces, pero la manipulación de la variable j \n",
    "se hace 49995000 veces, un número muy alto que representa el 24% del tiempo total.\n",
    "La línea if array[i] == array[j]: también es muy costosa, ya que tiene que acceder a dos arrays y hacer una comparación,\n",
    "línea que se ejecuta 49995000 veces.\n",
    "\n",
    "Para la optimización lo primero que haré será reducir el número de bucles, variables auxiliares y comparaciones.\n",
    "De forma similar al ejercicio anterior, podemos recorrer el array con un for item in array, sin necesidad de índices\n",
    "ni de tener que consultar constantemente el valor del array en la posición de los índices.\n",
    "\n",
    "Lo siguiente es que no necesitamos recorrer la lista tantas veces, utilizando sets podemos recorrer la lista de \n",
    "números solo una vez, apoyándonos en estas estructuras para ver si ya hemos incluido el número o no. Lo que haré\n",
    "es tener dos sets, el de resultado y el de consulta. El de consulta almacena si el número se ha leído una vez. Si \n",
    "se detecta que el número ya está en el set seen_numbers, se incluye en el set repeated_numbers, que será el devuelto. \n",
    "Si no se ha visto en el set seen_numbers, simplemente se añade y la siguiente vez ya se marcará como 'visto'.\n",
    "\n",
    "Utilizar sets como estructura es muy potente, ya que buscar e insertar en ellos es muy rápido y además nos elimina\n",
    "duplicados, por lo que si hubiera más de un número repetido, no nos lo va a incluir.\n",
    "\n",
    "Esto reduce la complejidad del algoritmo de $\\Theta{(n^3)} $ a $\\Theta{(n)} $\n",
    "\n"
   ]
  },
  {
   "cell_type": "code",
   "execution_count": 9,
   "metadata": {
    "ExecuteTime": {
     "end_time": "2024-05-22T19:39:41.931935Z",
     "start_time": "2024-05-22T19:39:26.169525Z"
    },
    "id": "DFqyK6WbkYLA"
   },
   "outputs": [
    {
     "name": "stdout",
     "output_type": "stream",
     "text": [
      "Tiempo de ejecución con el algoritmo sin optimizar:\n",
      "CPU times: user 6.83 s, sys: 256 ms, total: 7.09 s\n",
      "Wall time: 7.17 s\n",
      "Valores de resultado del algoritmo sin optimizar:\n",
      "[1, 2, 3, 4, 5, 6, 7, 8, 9, 10, 11, 12, 13, 14, 15, 16, 17, 18, 19, 20, 21, 22, 23, 24, 25, 26, 27, 28, 29, 30, 31, 32, 33, 34, 35, 36, 37, 38, 39, 40, 41, 42, 43, 44, 45, 46, 47, 48, 49, 50, 51, 52, 53, 54, 55, 56, 57, 58, 59, 60, 61, 62, 63, 64, 65, 66, 67, 68, 69, 70, 71, 72, 73, 74, 75, 76, 77, 78, 79, 80, 81, 82, 83, 84, 85, 86, 87, 88, 89, 90, 91, 92, 93, 94, 95, 96, 97, 98, 99]\n",
      "Tiempo de ejecución con el algoritmo optimizado\n",
      "CPU times: user 859 µs, sys: 40 µs, total: 899 µs\n",
      "Wall time: 903 µs\n",
      "Valores de resultado del algoritmo optimizado\n",
      "[1, 2, 3, 4, 5, 6, 7, 8, 9, 10, 11, 12, 13, 14, 15, 16, 17, 18, 19, 20, 21, 22, 23, 24, 25, 26, 27, 28, 29, 30, 31, 32, 33, 34, 35, 36, 37, 38, 39, 40, 41, 42, 43, 44, 45, 46, 47, 48, 49, 50, 51, 52, 53, 54, 55, 56, 57, 58, 59, 60, 61, 62, 63, 64, 65, 66, 67, 68, 69, 70, 71, 72, 73, 74, 75, 76, 77, 78, 79, 80, 81, 82, 83, 84, 85, 86, 87, 88, 89, 90, 91, 92, 93, 94, 95, 96, 97, 98, 99]\n"
     ]
    }
   ],
   "source": [
    "import numpy as np\n",
    "\n",
    "input_array = list(np.random.randint(1, 100, 10000))\n",
    "\n",
    "print('Tiempo de ejecución con el algoritmo sin optimizar:')\n",
    "%time repetitions(input_array)\n",
    "# Guardo el resultado en una variable para compararlo más adelante\n",
    "repetitions_res = repetitions(input_array) \n",
    "# Lo imprimo ordenado para visualizar mejor su contenido comparándolo con el resultado optimizado\n",
    "print('Valores de resultado del algoritmo sin optimizar:')\n",
    "print(sorted(repetitions_res))\n",
    "# Igual que en el ejercicio anterior, lo primero que haré es calcular el tiempo que tarda y ver línea a línea el tiempo demorado\n",
    "\n",
    "#%load_ext line_profiler\n",
    "#%lprun -f repetitions repetitions(input_array)\n",
    "\n",
    "\"\"\"\n",
    "Lo primero que hago es analizar el código línea a línea:\n",
    "Line #      Hits         Time  Per Hit   % Time  Line Contents\n",
    "==============================================================\n",
    "1                                           def repetitions(array):\n",
    "11                                           \n",
    "12         1          6.0      6.0      0.0      repeated = []\n",
    "13         1          4.0      4.0      0.0      i = 0\n",
    "14                                           \n",
    "15     10001      72629.0      7.3      0.0      while i < len(array):\n",
    "16     10000      31263.0      3.1      0.0          j = i + 1\n",
    "17  50005000  196292462.0      3.9     27.1          while j < len(array):\n",
    "18  49995000  178464791.0      3.6     24.6              if array[i] == array[j]:\n",
    "19                                           \n",
    "20    505129    1425789.0      2.8      0.2                  counted = False\n",
    "21  25600648   80039195.0      3.1     11.0                  for item in repeated:\n",
    "22  25600549   85210429.0      3.3     11.7                      if item == array[i]:\n",
    "23    505030    1411509.0      2.8      0.2                          counted = True\n",
    "24    505030    1612725.0      3.2      0.2                          break\n",
    "25                                           \n",
    "26    505129    1665789.0      3.3      0.2                  if not counted:\n",
    "27        99        863.0      8.7      0.0                      repeated.append(array[i])\n",
    "28                                           \n",
    "29  49995000  179263581.0      3.6     24.7              j = j + 1\n",
    "30                                           \n",
    "31     10000      38621.0      3.9      0.0          i = i + 1\n",
    "32                                           \n",
    "33         1         19.0     19.0      0.0      return repeated\n",
    "\"\"\"\n",
    "\n",
    "\n",
    "def repetitions_opt(array):\n",
    "    seen_numbers = set()\n",
    "    repeated_numbers = set()\n",
    "\n",
    "    for item in array:\n",
    "        # Compruebo si ya lo he visto antes. Si es asi, lo añado al set de repetidos\n",
    "        if item in seen_numbers:\n",
    "            repeated_numbers.add(item)\n",
    "        # Si no lo he visto, lo añado al set de vistos\n",
    "        else:\n",
    "            seen_numbers.add(item)\n",
    "    # Devuelvo el resultado transformando el set en una lista\n",
    "    return list(repeated_numbers)\n",
    "\n",
    "# Calculo de nuevo el impacto línea a línea del algoritmo optimizado\n",
    "#%load_ext line_profiler\n",
    "#%lprun -f repetitions_opt repetitions_opt(input_array)\n",
    "\n",
    "\n",
    "\"\"\"\n",
    "Line #      Hits         Time  Per Hit   % Time  Line Contents\n",
    "==============================================================\n",
    "    69                                           def repetitions_opt(array):\n",
    "    70         1         13.0     13.0      0.0      seen_numbers = set()\n",
    "    71         1          7.0      7.0      0.0      repeated_numbers = set()\n",
    "    72                                           \n",
    "    73     10001      35498.0      3.5     32.4      for item in array:\n",
    "    74                                                   # Compruebo si ya lo he visto antes. Si es asi, lo añado al set de repetidos\n",
    "    75     10000      35306.0      3.5     32.2          if item in seen_numbers:\n",
    "    76      9901      38418.0      3.9     35.0              repeated_numbers.add(item)\n",
    "    77                                                   # Si no lo he visto, lo añado al set de vistos\n",
    "    78                                                   else:\n",
    "    79        99        334.0      3.4      0.3              seen_numbers.add(item)\n",
    "    80                                               # Devuelvo el resultado transformando el set en una lista\n",
    "    81         1         92.0     92.0      0.1      return list(repeated_numbers)\n",
    "\"\"\"\n",
    "\n",
    "print('Tiempo de ejecución con el algoritmo optimizado')\n",
    "%time repetitions_opt(input_array)\n",
    "repetitions_optimized_res = repetitions_opt(input_array)\n",
    "print('Valores de resultado del algoritmo optimizado')\n",
    "print(sorted(repetitions_optimized_res))\n",
    "\n",
    "# Con un assert verifico que el resultado es igual (realizo una ordenación de ambas \n",
    "# listas para garantizar la comparación)\n",
    "assert sorted(repetitions_res) == sorted(repetitions_optimized_res), \"Los resultados no son iguales\"\n",
    "\n",
    "# Se puede ver que el tiempo de ejecución se ha reducido del entorno a los 7-8 segundos a 1 ms.\n",
    "# También lo vemos reforzado al analizar línea por línea las iteraciones del código. Como se ve a al\n",
    "# analizar línea por línea, el tiempo se reparte casi a partes iguales entre iterar, comprobar si está \n",
    "# en el primer set e introducir en el resultado en el set repeated_numbers."
   ]
  },
  {
   "cell_type": "markdown",
   "metadata": {},
   "source": [
    "\n"
   ]
  },
  {
   "cell_type": "code",
   "execution_count": null,
   "metadata": {
    "id": "3slSO5_ekYLA"
   },
   "outputs": [],
   "source": []
  },
  {
   "cell_type": "markdown",
   "metadata": {},
   "source": [
    "## Ejercicio 5\n",
    "\n",
    "Un concesionario está haciendo un análisis de los precios de mercado de distintos vehículos y nos ha contratado para llevar a cabo un proyecto. Para ello nos basaremos en un fichero CSV que está disponible en `data/car_prices.csv`.\n",
    "\n",
    "Además, como la empresa sufrió un ciberataque recientemente, temen que las librerías externas puedan estar infectadas, por lo que no se puede hacer uso de librerías como `pandas` (sí nos permite utilizar `numpy` y `matplotlib`).\n",
    "\n",
    "Lo que se nos pide como parte del proyecto es:\n",
    "\n",
    "1. Mostrar dos gráficas diferentes con las siguientes condiciones:\n",
    "\n",
    "- Agrupar por la variable fabricante (`make`) en el cual se muestre el número de coches con transmisión automática (`transmission = automatic`) y cuyos valores `MMR` y `sellingprice` sean superiores a 10000 dólares.\n",
    "\n",
    "- Agrupar por la variable fabricante (`make`) en el cual se muestre el número de coches con transmisión automática (`transmission = manual`) y cuyos valores `MMR` y `sellingprice` sean superiores a 10000 dólares.\n",
    "\n",
    "Ambas gráficas tienen que ser un gráfico barras con el número de coches de cada fabricante que cumplan las características anteriores, ordenados en sentido descendente.\n",
    " (0.5 puntos)\n",
    "\n",
    "\n",
    "2. La empresa nos pide que creemos un fichero CSV por fabricante en el que se vincule cada identificador `vin` con el modelo que le corresponde. La estructura del CSV es la siguiente: `vin,model`\n",
    "\n",
    "Como prueba de concepto nos piden hacer un implementación **secuencial**, es decir, sin tener en cuenta las capacidades de multiprocesamiento de nuestras máquinas. (1 punto)\n",
    "\n",
    "3. Como preveemos que vamos a conseguir más datos, queremos hacer un estudio de la reducción del tiempo de ejecución si utilizamos múltiples threads o múltiples procesadores. Se nos pide:\n",
    "\n",
    "    a. Una implementación utilizando múltiples **threads** del punto anterior.\n",
    "\n",
    "    b. Una implementación utilizando múltiples **procesadores** del punto anterior.\n",
    "\n",
    "(1 punto)\n",
    "\n",
    "4. ¿Cuál de las dos implementaciones anteriores es la más eficiente variando el número de threads/procesos entre `1` y `4`? Justificad brevemente vuestra respuesta. (0.5 puntos)\n",
    "\n",
    "\n",
    "**Nota:** Python 3 incluye las clases `ThreadPoolExecutor` y `ProcessPoolExecutor` para facilitar la ejecución del código en múltiples *threads* o procesos. Os pueden resultar útiles para resolver este ejercicio y podéis encontrar la documentación oficial en el [enlace](https://docs.python.org/3/library/concurrent.futures.html) siguiente.\n",
    "\n",
    "**Nota 2:** Para escribir a un fichero CSV os recomendamos el módulo `csv` de Python, del cual encontraréis la documentación en https://docs.python.org/3/library/csv.html.\n",
    "\n",
    "<span style=\"font-family: Courier New; background-color: #ffcc5c; color: #000000; padding: 3px; \">EG</span> **(3 puntos)**\n"
   ]
  },
  {
   "cell_type": "markdown",
   "metadata": {
    "id": "f_lk-cC1kYLA"
   },
   "source": [
    "**Respuesta**\n"
   ]
  },
  {
   "cell_type": "code",
   "execution_count": 10,
   "metadata": {
    "ExecuteTime": {
     "end_time": "2024-05-25T17:36:52.426844Z",
     "start_time": "2024-05-25T17:36:46.455409Z"
    },
    "id": "VU5KHCUKkYLB"
   },
   "outputs": [
    {
     "data": {
      "image/png": "[encoded data removed]",
      "text/plain": [
       "<Figure size 1000x600 with 1 Axes>"
      ]
     },
     "metadata": {},
     "output_type": "display_data"
    },
    {
     "data": {
      "image/png": "[encoded data removed]",
      "text/plain": [
       "<Figure size 1000x600 with 1 Axes>"
      ]
     },
     "metadata": {},
     "output_type": "display_data"
    }
   ],
   "source": [
    "import csv\n",
    "import matplotlib.pyplot as plt\n",
    "\n",
    "# Ejercicio 5.1\n",
    "\n",
    "def get_transmission_translate(transmission:str) -> str:\n",
    "    \"\"\"\n",
    "    Traduce el texto de la trasmisión de inglés a español\n",
    "\n",
    "    :param transmission: texto en inglés\n",
    "    :return: texto traducido\n",
    "    \"\"\"\n",
    "    if transmission==\"automatic\": \n",
    "        return \"automático\" \n",
    "    elif transmission==\"manual\": \n",
    "        return \"manual\" \n",
    "    else:\n",
    "        return \"sin definir\"\n",
    "\n",
    "def plot_data(car_makes:list, car_counts:list, transmission_criteria:str):\n",
    "    \"\"\"\n",
    "    Dibuja en una gráfica los datos de las marcas de los coches y su número,\n",
    "    marcando en el índice el tipo de trasmisión que tienen los datos.\n",
    "\n",
    "    :param car_makes: lista con las marcas de los coches\n",
    "    :param car_counts: lista con el conteo de coches por marca\n",
    "    :param transmission_criteria: tipo de trasmisión de los coches\n",
    "    \"\"\"\n",
    "    plt.figure(figsize=(10, 6))\n",
    "    plt.bar(car_makes, car_counts, color='blue')\n",
    "    plt.xlabel('Marca')\n",
    "    plt.ylabel('Numero de coches')\n",
    "    plt.title(f'Coches con MMR y precio de venta > $10000 con motor {get_transmission_translate(transmission_criteria)} por marca')\n",
    "    plt.xticks(rotation=90)\n",
    "    plt.tight_layout()\n",
    "    plt.show()\n",
    "\n",
    "def read_and_group_file(csv_file:str,transmission_criteria:str) -> dict:\n",
    "    \"\"\"\n",
    "    Lee el fichero CSV a partir de un path para agrupar todos los \n",
    "    coches que cumplan la condición bajo la misma marca y contarlos.\n",
    "\n",
    "    :param csv_file: ruta al CSV con los datos\n",
    "    :param transmission_criteria: tipo de trasmisión de los coches\n",
    "    \"\"\"\n",
    "    # Uso un diccionario donde guardaré como clave la marca y como valor el conteo\n",
    "    grouped_cars_by_make = {}\n",
    "    with open(csv_file, 'r',encoding='unicode_escape') as file:\n",
    "        # Leo el fichero usando la librería CSV\n",
    "        reader = csv.DictReader(file)\n",
    "        # Recorro row por row (una row es cada coche) el fichero\n",
    "        for row in reader:\n",
    "            # Extraigo los 3 campos relevantes a contrastar de cada coche\n",
    "            mmr = float(row['mmr'])\n",
    "            selling_price = float(row['sellingprice'])\n",
    "            is_automatic = row['transmission'] == transmission_criteria\n",
    "            # Si cumple la condición propuesta en el enunciado, se añade\n",
    "            if mmr > 10000 and selling_price > 10000 and is_automatic:\n",
    "                # Extraigo la marca del coche que añadiremos al diccionario\n",
    "                make = row['make']\n",
    "                # Si no estaba en el diccionario, creo esa entrada de la marca con 1 coche\n",
    "                if make not in grouped_cars_by_make:\n",
    "                    grouped_cars_by_make[make] = 1\n",
    "                # En caso de ya estar, simplemente aumento el valor para esa clave (marca)\n",
    "                else:\n",
    "                    grouped_cars_by_make[make] += 1 \n",
    "    # Devuelvo el diccionario con los datos procesados\n",
    "    return grouped_cars_by_make\n",
    "                \n",
    "def calculate_and_plot(csv_file:str, transmission_criteria:str):\n",
    "    \"\"\"\n",
    "    Coordina las tareas de la lectura y procesamiento de los datos y su representación\n",
    "    en un gráfico. En el camino también se encarga de ordenar los datos para que aparezcan\n",
    "    en orden descendiente\n",
    "\n",
    "    :param csv_file: ruta al CSV con los datos\n",
    "    :param transmission_criteria: tipo de trasmisión de los coches\n",
    "    \"\"\"\n",
    "    # Obtengo los datos del CSV\n",
    "    grouped_cars = read_and_group_file(csv_file,transmission_criteria)   \n",
    "    # Los ordeno de manera descendiente por su valor\n",
    "    sorted_filtered_data = dict(sorted(grouped_cars.items(), key=lambda item: item[1], reverse=True))\n",
    "    # Dibujo en una gráfica los datos ordenados\n",
    "    plot_data(list(sorted_filtered_data.keys()),list(sorted_filtered_data.values()),transmission_criteria)\n",
    "\n",
    "# Uso la función creada para pintar ambas gráficas\n",
    "calculate_and_plot(\"data/car_prices.csv\",\"automatic\")\n",
    "calculate_and_plot(\"data/car_prices.csv\",\"manual\")\n",
    "     "
   ]
  },
  {
   "cell_type": "code",
   "execution_count": 11,
   "metadata": {
    "ExecuteTime": {
     "end_time": "2024-05-26T15:38:44.612014Z",
     "start_time": "2024-05-26T15:38:39.244930Z"
    }
   },
   "outputs": [
    {
     "name": "stdout",
     "output_type": "stream",
     "text": [
      "Tiempo que tarda el procesado del CSV inicial\n",
      "CPU times: user 1.52 s, sys: 556 ms, total: 2.08 s\n",
      "Wall time: 2.09 s\n",
      "Tiempo que tarda la escritura de todos los CSV\n",
      "CPU times: user 82.2 ms, sys: 257 ms, total: 339 ms\n",
      "Wall time: 346 ms\n"
     ]
    }
   ],
   "source": [
    "import csv\n",
    "import os\n",
    "\n",
    "# Ejercicio 5.2\n",
    "\n",
    "def read_grouped_for_csv(csv_file:str) -> dict:\n",
    "    \"\"\"\n",
    "    Lee el fichero CSV a partir de un path para agrupar todos los \n",
    "    coches por marcas guardando los datos vin y model\n",
    "\n",
    "    :param csv_file: ruta al CSV con los datos\n",
    "    \"\"\"\n",
    "    # Uso un diccionario donde guardaré como clave la marca y como valor pares de las variables vin y model\n",
    "    grouped_cars_by_make = {}\n",
    "    with open(csv_file, 'r',encoding='unicode_escape') as file:\n",
    "        # Leo el fichero usando la librería CSV\n",
    "        reader = csv.DictReader(file)\n",
    "        # Recorro row por row (una row es cada coche) el fichero\n",
    "        for row in reader:\n",
    "            # Extraigo la marca, modelo y vin del coche que añadiremos al diccionario\n",
    "            make = row['make']\n",
    "            model = row['model']\n",
    "            vin = row['vin']\n",
    "            # Si no estaba en el diccionario, creo esa entrada de la marca\n",
    "            if make not in grouped_cars_by_make:\n",
    "                grouped_cars_by_make[make] = [(model,vin)]\n",
    "            # En caso de ya estar, simplemente incluyo los nuevos valores para la marca\n",
    "            else:\n",
    "                grouped_cars_by_make[make].append((model,vin)) \n",
    "    # Devuelvo el diccionario con los datos procesados\n",
    "    return grouped_cars_by_make\n",
    "                \n",
    "\n",
    "def generate_csv_files(makes_data:dict, output_path:str):\n",
    "    \"\"\"\n",
    "     A partir de los datos calculados genera un csv para cada marca\n",
    "\n",
    "    :param makes_data: diccionario con los datos procesados previamente\n",
    "    :param output_path: ruta donde generar los ficheros CSV\n",
    "    \"\"\"\n",
    "    headers = [\"model\", \"vin\"]\n",
    "\n",
    "    for make,car_values in makes_data.items():\n",
    "        # Abre el archivo en modo escritura\n",
    "        with open(f'{output_path}/{make}.csv', 'w', newline='') as file:\n",
    "            # Para cada marca abro un fichero csv\n",
    "            writer = csv.writer(file)\n",
    "            # escribo los headers\n",
    "            writer.writerow(headers)\n",
    "            # y los valores pedidos\n",
    "            writer.writerows(car_values)\n",
    "                \n",
    "def process_card_csv_files(csv_file:str, output_path:str):\n",
    "    \"\"\"\n",
    "    Coordina el procesado y escritura de los datos agrupados por marca\n",
    "    en los respectivos ficheros CSV\n",
    "\n",
    "    :param csv_file: ruta al fichero del que leer los datos\n",
    "    :param output_path: ruta donde generar los ficheros CSV\n",
    "    \"\"\"\n",
    "    makes_data = read_grouped_for_csv(csv_file)\n",
    "    print(\"Tiempo que tarda el procesado del CSV inicial\")\n",
    "    %time read_grouped_for_csv(csv_file)\n",
    "\n",
    "     # Comprueba que no exista el directorio previamente\n",
    "    if not os.path.exists(output_path):\n",
    "        # Crea el directorio donde generar todos los CSV\n",
    "        os.makedirs(output_path)\n",
    "    # Genera todos los CSV en el directorio objetivo pasado\n",
    "    generate_csv_files(makes_data,output_path)     \n",
    "    print(\"Tiempo que tarda la escritura de todos los CSV\")\n",
    "    %time generate_csv_files(makes_data,output_path)\n",
    "\n",
    "    \n",
    "\n",
    "process_card_csv_files(\"data/car_prices.csv\",\"generated\")"
   ]
  },
  {
   "cell_type": "code",
   "execution_count": 12,
   "metadata": {
    "ExecuteTime": {
     "end_time": "2024-05-26T16:46:02.763534Z",
     "start_time": "2024-05-26T16:45:59.653564Z"
    }
   },
   "outputs": [
    {
     "name": "stdout",
     "output_type": "stream",
     "text": [
      "Tiempo secuencial:\n",
      "CPU times: user 1.74 s, sys: 707 ms, total: 2.45 s\n",
      "Wall time: 2.48 s\n",
      "Tiempo concurrentemente con 2 hilos:\n",
      "CPU times: user 1.67 s, sys: 782 ms, total: 2.45 s\n",
      "Wall time: 2.54 s\n",
      "Tiempo paralelo con 2 procesos:\n",
      "CPU times: user 2.57 s, sys: 129 ms, total: 2.7 s\n",
      "Wall time: 2.96 s\n"
     ]
    }
   ],
   "source": [
    "from concurrent.futures import ThreadPoolExecutor\n",
    "from concurrent.futures import ProcessPoolExecutor\n",
    "\n",
    "# Ejercicio 5.3\n",
    "\n",
    "\"\"\"\n",
    "Del ejercicio anterior vemos que se puede atacar en dos frentes: el procesado del CSV\n",
    "inicial y la escritura en cada uno de los CSVs generados por cada marca.\n",
    "\n",
    "En este caso me voy a centrar en ejecutar en paralelo/concurrentemente la parte de la \n",
    "escritura de los CSV.\n",
    "\"\"\"\n",
    "\n",
    "\n",
    "def generate_csv_file(make:str, car_values:list, output_path:str):\n",
    "    \"\"\"\n",
    "     A partir de los datos calculados genera un csv para cada marca\n",
    "\n",
    "    :param make: nombre de la marca\n",
    "    :param car_values: datos de los coches para la marca \n",
    "    :param output_path: ruta donde generar los ficheros CSV\n",
    "    \"\"\"\n",
    "    try:\n",
    "        headers = [\"model\", \"vin\"]\n",
    "        # Abre el archivo en modo escritura\n",
    "        with open(f'{output_path}/{make}.csv', 'w', newline='') as file:\n",
    "            # Para cada marca abro un fichero csv\n",
    "            writer = csv.writer(file)\n",
    "            # escribo los headers\n",
    "            writer.writerow(headers)\n",
    "            # y los valores pedidos\n",
    "            writer.writerows(car_values)\n",
    "    \n",
    "    except Exception as e:\n",
    "        print(f'Error writing CSV for {make}: {e}')\n",
    "        raise\n",
    "                \n",
    "def process_card_csv_files_sequential(csv_file:str, output_path:str):\n",
    "    \"\"\"\n",
    "    Coordina el procesado y escritura de los datos agrupados por marca\n",
    "    en los respectivos ficheros CSV de forma secuencial\n",
    "\n",
    "    :param csv_file: ruta al fichero del que leer los datos\n",
    "    :param output_path: ruta donde generar los ficheros CSV\n",
    "    \"\"\"\n",
    "    makes_data = read_grouped_for_csv(csv_file)\n",
    "     # Comprueba que no exista el directorio previamente\n",
    "    if not os.path.exists(output_path):\n",
    "        # Crea el directorio donde generar todos los CSV\n",
    "        os.makedirs(output_path)\n",
    "    # Genera todos los CSV en el directorio objetivo pasado\n",
    "    for make,car_values in makes_data.items():\n",
    "        generate_csv_file(make,car_values,output_path)       \n",
    "        \n",
    "def process_card_csv_files_concurrent(csv_file:str, output_path:str, cores:int):\n",
    "    \"\"\"\n",
    "    Coordina el procesado y escritura de los datos agrupados por marca\n",
    "    en los respectivos ficheros CSV de forma concurrente con threads\n",
    "\n",
    "    :param csv_file: ruta al fichero del que leer los datos\n",
    "    :param output_path: ruta donde generar los ficheros CSV\n",
    "    \"\"\"\n",
    "    makes_data = read_grouped_for_csv(csv_file)\n",
    "     # Comprueba que no exista el directorio previamente\n",
    "    if not os.path.exists(output_path):\n",
    "        # Crea el directorio donde generar todos los CSV\n",
    "        os.makedirs(output_path)\n",
    "    # Genera todos los CSV en el directorio objetivo pasado\n",
    "    with ThreadPoolExecutor(max_workers = cores) as executor: \n",
    "        futures = []\n",
    "        for make, car_values in makes_data.items():\n",
    "            futures.append(executor.submit(generate_csv_file, make, car_values, output_path))\n",
    "        \n",
    "        for future in futures:\n",
    "            future.result()  \n",
    "            \n",
    "\n",
    "def process_card_csv_files_parallel(csv_file:str, output_path:str, cores:int):\n",
    "    \"\"\"\n",
    "    Coordina el procesado y escritura de los datos agrupados por marca\n",
    "    en los respectivos ficheros CSV de forma paralela con procesos\n",
    "\n",
    "    :param csv_file: ruta al fichero del que leer los datos\n",
    "    :param output_path: ruta donde generar los ficheros CSV\n",
    "    \"\"\"\n",
    "    makes_data = read_grouped_for_csv(csv_file)\n",
    "     # Comprueba que no exista el directorio previamente\n",
    "    if not os.path.exists(output_path):\n",
    "        # Crea el directorio donde generar todos los CSV\n",
    "        os.makedirs(output_path)\n",
    "    # Genera todos los CSV en el directorio objetivo pasado\n",
    "    with ProcessPoolExecutor(max_workers = cores) as executor:  \n",
    "        futures = []\n",
    "        try:\n",
    "            for make, car_values in makes_data.items():\n",
    "                futures.append(executor.submit(generate_csv_file, make, car_values, output_path))                \n",
    "            for future in futures:\n",
    "                future.result()  \n",
    "        except Exception as e:\n",
    "            print(f'Error in process: {e}')\n",
    "print(\"Tiempo secuencial:\")\n",
    "%time process_card_csv_files_sequential(\"data/car_prices.csv\",\"generated_sequential\")\n",
    "\n",
    "print(\"Tiempo concurrentemente con 2 hilos:\")\n",
    "%time process_card_csv_files_concurrent(\"data/car_prices.csv\",\"generated_concurrent\", 2)\n",
    "\n",
    "print(\"Tiempo paralelo con 2 procesos:\")\n",
    "%time process_card_csv_files_parallel(\"data/car_prices.csv\",\"generated_parallel\", 2)\n",
    "\n",
    "process_card_csv_files_sequential(\"data/car_prices.csv\",\"generated_sequential\")\n",
    "process_card_csv_files_concurrent(\"data/car_prices.csv\",\"generated_concurrent\", 2)\n",
    "process_card_csv_files_parallel(\"data/car_prices.csv\",\"generated_parallel\", 2)\n",
    "\n",
    "\n"
   ]
  },
  {
   "cell_type": "code",
   "execution_count": 13,
   "metadata": {
    "ExecuteTime": {
     "end_time": "2024-05-26T16:49:39.800810Z",
     "start_time": "2024-05-26T16:49:39.554839Z"
    }
   },
   "outputs": [
    {
     "name": "stdout",
     "output_type": "stream",
     "text": [
      "Tiempo concurrente con 1 hilo:\n",
      "CPU times: user 2.35 s, sys: 427 ms, total: 2.77 s\n",
      "Wall time: 2.86 s\n",
      "Tiempo concurrente con 2 hilos:\n",
      "CPU times: user 2.42 s, sys: 496 ms, total: 2.92 s\n",
      "Wall time: 2.89 s\n",
      "Tiempo concurrente con 3 hilos:\n",
      "CPU times: user 2.33 s, sys: 469 ms, total: 2.8 s\n",
      "Wall time: 2.77 s\n",
      "Tiempo concurrente con 4 hilos:\n",
      "CPU times: user 0 ns, sys: 3.56 s, total: 3.56 s\n",
      "Wall time: 3.58 s\n",
      "Tiempo paralelo con 1 proceso:\n",
      "CPU times: user 1.02 s, sys: 1.57 s, total: 2.6 s\n",
      "Wall time: 2.99 s\n",
      "Tiempo paralelo con 2 procesos:\n",
      "CPU times: user 2.35 s, sys: 354 ms, total: 2.7 s\n",
      "Wall time: 3.04 s\n",
      "Tiempo paralelo con 3 procesos:\n",
      "CPU times: user 1.41 s, sys: 1.71 s, total: 3.12 s\n",
      "Wall time: 3.65 s\n",
      "Tiempo paralelo con 4 procesos:\n",
      "CPU times: user 2.45 s, sys: 668 ms, total: 3.12 s\n",
      "Wall time: 3.81 s\n"
     ]
    },
    {
     "data": {
      "text/plain": [
       "'\\nEn general vemos que no hay diferencias significativas, ya que tener que crear las estructuras\\npara los threads/procesos es algo costoso y parece que el tiempo ahorrado por que un mismo \\nhilo no tenga que escribir todas las marcas es casi el mismo que se gasta en preparar las \\nestructuras de los procesos/threads.\\n\\n'"
      ]
     },
     "execution_count": 13,
     "metadata": {},
     "output_type": "execute_result"
    }
   ],
   "source": [
    "# Ejercicio 5.4\n",
    "\n",
    "\"\"\"\n",
    "En cuanto a la optimización con threads y procesos, al haber escogido optimizar la escritura\n",
    "en ficheros .CSV en lugar de la lectura y agrupación del CSV de origen, no se aprecia una gran mejora.\n",
    "\n",
    "Si medimos las ejecuciones con hilos y threads con 1,2,3 y 4 cores queda lo siguiente:\n",
    "\"\"\"\n",
    "print(\"Tiempo concurrente con 1 hilo:\")\n",
    "%time process_card_csv_files_concurrent(\"data/car_prices.csv\",\"generated_concurrent\", 1)\n",
    "print(\"Tiempo concurrente con 2 hilos:\")\n",
    "%time process_card_csv_files_concurrent(\"data/car_prices.csv\",\"generated_concurrent\", 2)\n",
    "print(\"Tiempo concurrente con 3 hilos:\")\n",
    "%time process_card_csv_files_concurrent(\"data/car_prices.csv\",\"generated_concurrent\", 3)\n",
    "print(\"Tiempo concurrente con 4 hilos:\")\n",
    "%time process_card_csv_files_concurrent(\"data/car_prices.csv\",\"generated_concurrent\", 4)\n",
    "\n",
    "print(\"Tiempo paralelo con 1 proceso:\")\n",
    "%time process_card_csv_files_parallel(\"data/car_prices.csv\",\"generated_parallel\", 1)\n",
    "print(\"Tiempo paralelo con 2 procesos:\")\n",
    "%time process_card_csv_files_parallel(\"data/car_prices.csv\",\"generated_parallel\", 2)\n",
    "print(\"Tiempo paralelo con 3 procesos:\")\n",
    "%time process_card_csv_files_parallel(\"data/car_prices.csv\",\"generated_parallel\", 3)\n",
    "print(\"Tiempo paralelo con 4 procesos:\")\n",
    "%time process_card_csv_files_parallel(\"data/car_prices.csv\",\"generated_parallel\", 4)\n",
    "\n",
    "\"\"\"\n",
    "En general vemos que no hay diferencias significativas, ya que tener que crear las estructuras\n",
    "para los threads/procesos es algo costoso y parece que el tiempo ahorrado por que un mismo \n",
    "hilo no tenga que escribir todas las marcas es casi el mismo que se gasta en preparar las \n",
    "estructuras de los procesos/threads.\n",
    "\n",
    "\"\"\""
   ]
  },
  {
   "cell_type": "code",
   "execution_count": null,
   "metadata": {},
   "outputs": [],
   "source": []
  }
 ],
 "metadata": {
  "colab": {
   "provenance": []
  },
  "kernelspec": {
   "display_name": "Python 3 (ipykernel)",
   "language": "python",
   "name": "python3"
  },
  "language_info": {
   "codemirror_mode": {
    "name": "ipython",
    "version": 3
   },
   "file_extension": ".py",
   "mimetype": "text/x-python",
   "name": "python",
   "nbconvert_exporter": "python",
   "pygments_lexer": "ipython3",
   "version": "3.10.12"
  }
 },
 "nbformat": 4,
 "nbformat_minor": 1
}
