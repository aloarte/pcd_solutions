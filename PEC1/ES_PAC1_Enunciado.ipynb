{
 "cells": [
  {
   "cell_type": "markdown",
   "id": "d0cfe312",
   "metadata": {},
   "source": [
    "<div style=\"width: 100%; clear: both;\">\n",
    "    <div style=\"float: left; width: 50%;\">\n",
    "       <img src=\"https://www.uoc.edu/portal/system/modules/edu.uoc.presentations/resources/img/branding/logo-uoc-default.png\", align=\"left\" width=\"125px\">\n",
    "    </div>\n",
    "</div>\n",
    "\n",
    "<div style=\"float: right; width: 50%;\">\n",
    "    <p style=\"margin: 0; padding-top: 22px; text-align:right;\">22.403 · Programació para la ciencia de datos</p>\n",
    "    <p style=\"margin: 0; text-align:right;\">Grado en Ciencia de Datos Aplicada</p>\n",
    "    <p style=\"margin: 0; text-align:right; padding-button: 100px;\">Estudios de Informática, Multimedia y Telecomunicación</p>\n",
    "</div>\n",
    "</div>"
   ]
  },
  {
   "cell_type": "markdown",
   "id": "956b7ff1",
   "metadata": {
    "id": "8e9c2095",
    "tags": []
   },
   "source": [
    "Programación para la ciencia de datos - PAC1\n",
    "============================\n",
    "\n",
    "En este Notebook encontraréis un conjunto de ejercicios que suponen la primera actividad de evaluación continua (PEC) de la asignatura.\n",
    "\n",
    "Para cada ejercicio, tened en cuenta que:\n",
    "\n",
    "- **Es necesario incluir comentarios** en vuestro código, que expliquen cómo habéis implementado la solución del problema planteado.  \n",
    "- **Es imprescindible** citar las referencias consultadas.  \n",
    "- **Se valorará** que el código proporcionado solucione el problema propuesto y también la calidad del código (comentarios, legibilidad, claridad, uso de las estructuras de datos adecuadas, buena nomenclatura de las variables y funciones, seguimiento del PEP8, etc.). En esta PEC 3 es particularmente importante que el código desarrollado sea eficiente.\n",
    "\n",
    "Veréis que todas las actividades tienen una etiqueta, que indica los recursos necesarios para llevarla a cabo. Hay tres posibles etiquetas:\n",
    "\n",
    "* <span style=\"font-family: Courier New; background-color: #82b74b; color: #000000; padding: 3px; \">SM</span> **Sólo materiales**: las herramientas necesarias para realizar la actividad se pueden encontrar en los materiales de la asignatura (consideraremos también los materiales de la asignatura Fundamentos de Programación, así como las lecturas obligatorias de material externo que se indican en los notebooks).\n",
    "* <span style=\"font-family: Courier New; background-color: #ffcc5c; color: #000000; padding: 3px; \">EG</span> **Consulta externa guiada**: la actividad puede requerir hacer uso de herramientas que no se encuentran en los materiales de la asignatura, pero el enunciado contiene indicaciones de dónde o cómo encontrar la información adicional necesaria para resolver la actividad.  \n",
    "* <span style=\"font-family: Courier New; background-color: #f2ae72; color: #000000; padding: 3px; \">EI</span> **Consulta externa independiente**: la actividad puede requerir hacer uso de herramientas que no se encuentran en los materiales de la asignatura, y el enunciado puede no incluir la descripción de dónde o cómo encontrar esta información adicional. Será necesario que el estudiante busque esta información utilizando los recursos que se han explicado en la asignatura.\n",
    "\n",
    "Notad que estas etiquetas no indican el nivel de dificultad del ejercicio, sino únicamente la necesidad de consulta de documentación externa para su resolución. Además, recordad que las **etiquetas son informativas**, pero **podéis consultar referencias externas, y usarlas, siempre que queráis (aunque no se indique explícitamente). De la misma forma, podéis realizar una actividad sin consultar ningún tipo de documentación**. Por ejemplo, para resolver una actividad que sólo requiera los materiales de la asignatura, podéis consultar referencias externas, ya sea para ayudar a resolverla o para ampliar conocimientos.\n",
    "\n",
    "---\n",
    "\n",
    "## Antes de empezar\n",
    "\n",
    "Por favor, leed atentamente los siguientes párrafos relativos a la originalidad en las actividades de la asignatura antes de empezar a trabajar en la PEC. \n",
    "\n",
    "<div class=\"alert alert-block alert-success\">La falta de originalidad se produce cuando en una actividad aparece contenido que no ha sido elaborado de forma individual por el estudiante y no se referencia adecuadamente su origen. O bien cuando, aunque el contenido externo esté referenciado, éste es tan extenso que no es posible considerar al estudiante el autor o autora de la actividad.\n",
    "<br /><br />\n",
    "Así, algunos ejemplos de comportamientos inadecuados son en lo que se refiere a la falta de originalidad son:\n",
    "<ol>\n",
    "    <li>Crear la solución de un ejercicio de la PEC en colaboración entre varios estudiantes.</li>\n",
    "    <li>Incluir un ejercicio de la PEC que utilice código encontrado en internet sin citar la fuente.</li>\n",
    "    <li>Compartir su solución de la PEC con otros estudiantes de la asignatura.</li>\n",
    "    </ol>\n",
    "</div>\n",
    "\n",
    "## Instrucciones de entrega\n",
    "\n",
    "Para entregar la actividad es necesario:\n",
    "\n",
    "1. Comprobar que el notebook se ejecuta correctamente en la máquina virtual. Es importante que antes de entregar vuestra PEC comprobéis que la versión final del código que entrega se ejecuta correctamente en su totalidad. Para ello, os recomendamos realizar una ejecución completa desde cero del notebook: haced click en **Kernel > Restart & Run All** y comprobad que el notebook se ejecuta correctamente.\n",
    "2. Activar las alertas de estilo y comprobar que el código sigue las convenciones de estilo de Python. \n",
    "3. Confirmar que sois los autores únicos de la PEC y que ésta incluye todas las citas a recursos externos que se hayan utilizado para elaborarla. Para confirmar que sois los autores únicos de la actividad, añadid vuestro nombre completo al párrafo de la celda siguiente.\n",
    "4. Para esta PEC **sólo será necesario entregar el archivo con el notebook (con extensión .ipynb)**. Los profesores añadiremos la carpeta *data/*. Aseguraos de que una vez añadida la carpeta *data/* en el mismo directorio, el código se ejecuta sin problemas.\n",
    "5. Entregar la PEC a través del Registro de Evaluación Continuada del aula.\n",
    "6. La carga del dataset debe hacerse usando **rutas relativas**.\n",
    "\n"
   ]
  },
  {
   "cell_type": "markdown",
   "id": "2dbd8978",
   "metadata": {
    "id": "52cd5674"
   },
   "source": [
    "<div class=\"alert alert-block alert-warning\">Yo, *Nombre y Apellidos*, confirmo que he elaborado de manera individual todas las actividades resueltas en esta PEC y que he incluido las citas en todas las fuentes externas que he utilizado para resolver las actividades. </div>"
   ]
  },
  {
   "cell_type": "markdown",
   "id": "3c0c594b",
   "metadata": {
    "id": "1dfaf32e"
   },
   "source": [
    "\n",
    "## Type hint\n",
    "\n",
    "Os recomendamos resolver esta PEC utilizando *type hints*. Podéis entender qué son los type hints de Python como una solución formal para indicar estéticamente el tipo de valor dentro del código Python. Os recomendamos la visualización del siguiente\n",
    "[vídeo](https://www.youtube.com/watch?v=j0dy8Q9VIPk) para una introducción a los type hints de Python, y para entender por qué son interesantes.\n",
    "\n",
    "**El uso de los type hints en la resolución de la PAC se bonificará con 0.25 puntos adicionales (para obtener toda la puntuación adicional, se tiene que implementar los type hints de todas las funciones creadas en la PAC). No es necesario que utilicéis los type hints en todas las variables, sino sólo en las cabeceras de las funciones.**\n"
   ]
  },
  {
   "cell_type": "markdown",
   "id": "06cbd877",
   "metadata": {},
   "source": [
    "## Alertas de estilo PEP8\n",
    "\n",
    "Podéis activar las alertas de estilo descomentando la línea de código siguiente.\n",
    "Hemos detectado algunos errores en ciertas construcciones de código al ejecutar ese módulo. Por tanto, si al descomentar esta línea su código se generan errores en algún bloque de código concreto, puede deberse a que a veces pycodestyle no informa correctamente del problema de estilo detectado, sino que genera una excepción.\n",
    "Podéis revisar la guía de estilos de PEP8 para intentar detectar la instrucción que no cumple la guía o contactar con el profesor colaborador de su aula para valorar alternativas."
   ]
  },
  {
   "cell_type": "code",
   "execution_count": 1,
   "id": "abc46f2e",
   "metadata": {},
   "outputs": [],
   "source": [
    "%load_ext pycodestyle_magic\n",
    "# Activate code alerts\n",
    "# %pycodestyle_on"
   ]
  },
  {
   "cell_type": "markdown",
   "id": "f65e0beb",
   "metadata": {},
   "source": [
    "## Enunciado\n",
    "\n",
    "Disponemos de un dataset de las aplicaciones del **Playstore de Google** (*googleplaystore.csv*). El fichero original se puede descargar de:\n",
    "\n",
    "https://www.kaggle.com/datasets/bhavikjikadara/google-play-store-applications\n",
    "\n",
    "pero tienes que utilizar el dataset que se te proporciona porque se han corregido algunas filas y se ha introducido algún cambio.\n",
    "\n",
    "Queremos hacer un análisis exploratorio de los datos y su transformación en formatos más adecuados.\n"
   ]
  },
  {
   "cell_type": "markdown",
   "id": "af07a28f",
   "metadata": {},
   "source": [
    "## Ejercicio 1: EDA\n",
    "\n",
    "Haremos el análisis exploratorio de los datos (EDA), y eliminaremos las filas que no interesan.\n",
    "\n",
    "1.1. Carga el dataset en un Dataframe de Pandas.\n",
    "\n",
    "1.2. Muestra la información básica del dataframe, y las primeras 5 filas.\n",
    "\n",
    "1.3. La primera columna se llama *unnamed*. Cambia el nombre por ID.\n",
    "\n",
    "1.4. Elimina las columnas 'Type', 'Current Ver' y 'Android Ver'.\n",
    "\n",
    "1.5. Renombra las columnas 'Content Rating' a 'Content_Rating' y 'Last Updated' a 'Last_Updated'.\n",
    "\n",
    "1.6. ¿Cuántas apps hay?\n",
    "\n",
    "1.7. Elimina las apps repetidas, quédate con la primera ocurrencia. ¿Cuántas apps hay ahora? Haz los cambios en el mismo dataframe.\n",
    "\n",
    "<span style=\"font-family: Courier New; background-color: #82b74b; color: #000000; padding: 3px; \">SM</span> **(1 punt)**\n"
   ]
  },
  {
   "cell_type": "markdown",
   "id": "e0d34bf3",
   "metadata": {},
   "source": [
    "<div style=\"background-color: #fcf2f2; border-color: #dfb5b4; border-left: 5px solid #dfb5b4; padding: 0.5em;\">\n",
    "<strong>Solución</strong>\n",
    "</div>\n"
   ]
  },
  {
   "cell_type": "code",
   "execution_count": 22,
   "id": "c9c90dd2",
   "metadata": {
    "ExecuteTime": {
     "end_time": "2024-03-29T14:57:20.714572Z",
     "start_time": "2024-03-29T14:57:20.657100Z"
    }
   },
   "outputs": [
    {
     "name": "stdout",
     "output_type": "stream",
     "text": [
      "<class 'pandas.core.frame.DataFrame'>\n",
      "RangeIndex: 10840 entries, 0 to 10839\n",
      "Data columns (total 14 columns):\n",
      " #   Column          Non-Null Count  Dtype  \n",
      "---  ------          --------------  -----  \n",
      " 0   n               10840 non-null  int64  \n",
      " 1   App             10840 non-null  object \n",
      " 2   Category        10840 non-null  object \n",
      " 3   Rating          9366 non-null   float64\n",
      " 4   Reviews         10840 non-null  int64  \n",
      " 5   Size            10840 non-null  object \n",
      " 6   Installs        10840 non-null  object \n",
      " 7   Type            10839 non-null  object \n",
      " 8   Price           10840 non-null  object \n",
      " 9   Content Rating  10840 non-null  object \n",
      " 10  Genres          10840 non-null  object \n",
      " 11  Last Updated    10840 non-null  object \n",
      " 12  Current Ver     10832 non-null  object \n",
      " 13  Android Ver     10838 non-null  object \n",
      "dtypes: float64(1), int64(2), object(11)\n",
      "memory usage: 1.2+ MB\n",
      "None\n",
      "   n                                                App        Category  \\\n",
      "0  0     Photo Editor & Candy Camera & Grid & ScrapBook  ART_AND_DESIGN   \n",
      "1  1                                Coloring book moana  ART_AND_DESIGN   \n",
      "2  2  U Launcher Lite – FREE Live Cool Themes, Hide ...  ART_AND_DESIGN   \n",
      "3  3                              Sketch - Draw & Paint  ART_AND_DESIGN   \n",
      "4  4              Pixel Draw - Number Art Coloring Book  ART_AND_DESIGN   \n",
      "\n",
      "   Rating  Reviews  Size     Installs  Type Price Content Rating  \\\n",
      "0     4.1      159   19M      10,000+  Free     0       Everyone   \n",
      "1     3.9      967   14M     500,000+  Free     0       Everyone   \n",
      "2     4.7    87510  8.7M   5,000,000+  Free     0       Everyone   \n",
      "3     4.5   215644   25M  50,000,000+  Free     0           Teen   \n",
      "4     4.3      967  2.8M     100,000+  Free     0       Everyone   \n",
      "\n",
      "                      Genres Last Updated         Current Ver   Android Ver  \n",
      "0               Art & Design   7--Jan--18               1.0.0  4.0.3 and up  \n",
      "1  Art & Design;Pretend Play  15--Jan--18               2.0.0  4.0.3 and up  \n",
      "2               Art & Design   1--Aug--18               1.2.4  4.0.3 and up  \n",
      "3               Art & Design   8--Jun--18  Varies with device    4.2 and up  \n",
      "4    Art & Design;Creativity  20--Jun--18                 1.1    4.4 and up  \n",
      "Hay 10840 apps\n",
      "Hay 1181, los elimino del dataset: \n",
      "Tras eliminar duplicados nos quedan 9659 apps. Si le sumamos el numero de elementos duplicados que encontramos antes, nos da el inicial: 10840\n"
     ]
    }
   ],
   "source": [
    "import pandas as pd\n",
    "\n",
    "# 1.1. Carga el dataset en un Dataframe de Pandas.\n",
    "ps_data = pd.read_csv('data/googleplaystore.csv')\n",
    "\n",
    "# 1.2. Muestra la información básica del dataframe, y las primeras 5 filas.\n",
    "print(ps_data.info())\n",
    "print(ps_data[:5])  #Las primeras 5 filas\n",
    "\n",
    "# 1.3. La primera columna se llama *unnamed*. Cambia el nombre por ID.\n",
    "ps_data.rename(columns={'n': 'ID'}, inplace=True) # Especificamos la columna a cambiar y el nuevo nombre. inplace a true nos permite seguir modificando la misma variable ps_data. https://pandas.pydata.org/docs/reference/api/pandas.DataFrame.rename.html\n",
    "\n",
    "# 1.4. Elimina las columnas 'Type', 'Current Ver' y 'Android Ver'.\n",
    "\n",
    "ps_data.drop(labels = ['Type','Current Ver', 'Android Ver'],axis=1, inplace = True) # Podemos especificar una lista de las etiquetas de los nombres de las columnas a borrar. Axis=1 indica que se quieren eliminar columnas. https://pandas.pydata.org/docs/reference/api/pandas.DataFrame.drop.html\n",
    "\n",
    "# 1.5. Renombra las columnas 'Content Rating' a 'Content_Rating' y 'Last Updated' a 'Last_Updated'.\n",
    "ps_data.rename(columns={'Content Rating': 'Content_Rating', 'Last Updated': 'Last_Updated'}, inplace=True) # Igual que en el paso 1.3\n",
    "\n",
    "# 1.6. ¿Cuántas apps hay?\n",
    "print(f'Hay {ps_data.shape[0]} apps')\n",
    "\n",
    "# 1.7. Elimina las apps repetidas, quédate con la primera ocurrencia. ¿Cuántas apps hay ahora? Haz los cambios en el mismo dataframe.\n",
    "duplicados = ps_data.duplicated(subset='App', keep= 'first')  # Marcamos en una lista todos los valores duplicados a True usando keep='first' (el primero no lo marca pero siguientes ocurriencias si) e indicándole la columna que tiene que comprobar https://pandas.pydata.org/docs/reference/api/pandas.DataFrame.duplicated.html\n",
    "num_duplicados = duplicados.sum()\n",
    "print(f'Hay {num_duplicados}, los elimino del dataset: ') # Podemos ver el numero de ocurrencias que hay de apps duplicadas\n",
    "ps_data.drop_duplicates(subset='App', keep='first', inplace=True)\n",
    "print(f'Tras eliminar duplicados nos quedan {ps_data.shape[0]} apps. Si le sumamos el numero de elementos duplicados que encontramos antes, nos da el inicial: {ps_data.shape[0]+num_duplicados}' )"
   ]
  },
  {
   "cell_type": "markdown",
   "id": "cf85180a",
   "metadata": {},
   "source": [
    "## Ejercicio 2: Clean y data wrangling\n",
    "\n",
    "Continuaremos con la limipieza de datos. Habrás visto que columnas que supuestamente tienen que ser numéricas no lo son todavía: *Size*, *Installs* y *Price*. Transformaremos todas estas columnas a numéricas.\n",
    "\n",
    "2.1. Visualiza otra vez la información del dataframe, donde se pone de manifiesto el tipo de datos de las columnas.\n",
    "\n",
    "2.2. *Rating* es correcte (*float64*). Por tanto puedes calcular el valor medio de '*Rating*', con dos decimales. Muestra el resultado por pantalla.\n",
    "\n",
    "2.3. Define la función *clean(df, columna, dicc)*. Le pasamos el dataframe, la columna que queremos limpiar, y un diccionario que contiene claves-valores, donde la clave es la cadena que queremos buscar, y el valor es el valor de substitución. Es decir, si en la columna *Price* queremos substituir 5$ por 5, podemos pasar {\"$\":\"\"}. Esta función nos servirá para limpiar las columnas.\n",
    "\n",
    "2.4. Limpiar *Size*:\n",
    "   * Lista las primeras filas de datos de la columna *Size* que no son estrictamente números. Utiliza expresiones regulares.\n",
    "   * Identifica los diferentes casos en que nos encontramos (coméntalo en el código).\n",
    "   * Llama a la función *clean()* que hace los reemplazos para así preparar el contenido de *Size* a un formato que sea numérico (pero todavía no es numérico). Como resultado obtén el mismo dataframe con las columnas limpiadas.\n",
    "\n",
    "2.5. Limpia *Installs* y *Price*.\n",
    "\n",
    "2.6. Transforma las columnas *Size*, *Installs* y *Price* a numérico. Como resultado obtén el mismo dataframe con las columnas limpiadas.\n",
    "\n",
    "<span style=\"font-family: Courier New; background-color: #82b74b; color: #000000; padding: 3px; \">SM</span> **(1.5 puntos)**\n"
   ]
  },
  {
   "cell_type": "markdown",
   "id": "c7e588c1",
   "metadata": {},
   "source": [
    "<div style=\"background-color: #fcf2f2; border-color: #dfb5b4; border-left: 5px solid #dfb5b4; padding: 0.5em;\">\n",
    "<strong>Solución</strong>\n",
    "</div>"
   ]
  },
  {
   "cell_type": "code",
   "execution_count": 23,
   "id": "df0c765e",
   "metadata": {
    "scrolled": true,
    "ExecuteTime": {
     "end_time": "2024-03-29T14:57:24.907282Z",
     "start_time": "2024-03-29T14:57:24.797819Z"
    }
   },
   "outputs": [
    {
     "name": "stdout",
     "output_type": "stream",
     "text": [
      "<class 'pandas.core.frame.DataFrame'>\n",
      "Index: 9659 entries, 0 to 10839\n",
      "Data columns (total 11 columns):\n",
      " #   Column          Non-Null Count  Dtype  \n",
      "---  ------          --------------  -----  \n",
      " 0   ID              9659 non-null   int64  \n",
      " 1   App             9659 non-null   object \n",
      " 2   Category        9659 non-null   object \n",
      " 3   Rating          8196 non-null   float64\n",
      " 4   Reviews         9659 non-null   int64  \n",
      " 5   Size            9659 non-null   object \n",
      " 6   Installs        9659 non-null   object \n",
      " 7   Price           9659 non-null   object \n",
      " 8   Content_Rating  9659 non-null   object \n",
      " 9   Genres          9659 non-null   object \n",
      " 10  Last_Updated    9659 non-null   object \n",
      "dtypes: float64(1), int64(2), object(8)\n",
      "memory usage: 905.5+ KB\n",
      "None\n",
      "El valor medio de los Ratings es: 4.17\n",
      "0                       19M\n",
      "1                       14M\n",
      "2                      8.7M\n",
      "3                       25M\n",
      "4                      2.8M\n",
      "                ...        \n",
      "10835                   53M\n",
      "10836                  3.6M\n",
      "10837                  9.5M\n",
      "10838    Varies with device\n",
      "10839                   19M\n",
      "Name: Size, Length: 9659, dtype: object\n"
     ]
    }
   ],
   "source": [
    "# 2.1. Visualiza otra vez la información del dataframe, donde se pone de manifiesto el tipo de datos de las columnas.\n",
    "print(ps_data.info())\n",
    "\n",
    "# 2.2. *Rating* es correcte (*float64*). Por tanto puedes calcular el valor medio de '*Rating*', con dos decimales. Muestra el resultado por pantalla.\n",
    "rating_mean = round(ps_data['Rating'].mean(),2) # Se calcula la media y se redondea a 2 decimales\n",
    "print(f'El valor medio de los Ratings es: {rating_mean}')\n",
    "# 2.3. Define la función *clean(df, columna, dicc)*. Le pasamos el dataframe, la columna que queremos limpiar, y un diccionario que contiene claves-valores, donde la clave es la cadena que queremos buscar, y el valor es el valor de substitución. Es decir, si en la columna *Price* queremos substituir 5$ por 5, podemos pasar {\"$\":\"\"}. Esta función nos servirá para limpiar las columnas.\n",
    "\n",
    "import re\n",
    "def clean(df: pd.DataFrame, columna: str, dicc: dict) -> pd.DataFrame:\n",
    "    dicc_escapado = {re.escape(k): v for k, v in dicc.items()} # Para este ejercicio y puesto que el carácter $ es especial en una regex, escapo todos los posibles caracteres que entren en este método\n",
    "    df[columna] = df[columna].replace(dicc_escapado, regex=True) # y con el método replace de un dataframe aplico la transformación (https://pandas.pydata.org/docs/reference/api/pandas.DataFrame.replace.html)\n",
    "    return df\n",
    "# Para Verificar la función desarrollada y puesto que hay muchos ratings a 0, filtrando con loc los valores que no sean 0 he podido ver que el código hace lo que le he pedido\n",
    "# ps_cleaned = clean(ps_data,'Price',{'$':''})\n",
    "# print(ps_cleaned['Price'].loc[ps_cleaned['Price'] != '0'])\n",
    "\n",
    "# 2.4. Limpiar *Size*:\n",
    "#   * Lista las primeras filas de datos de la columna *Size* que no son estrictamente números. Utiliza expresiones regulares.\n",
    "#   * Identifica los diferentes casos en que nos encontramos (coméntalo en el código).\n",
    "#   * Llama a la función *clean()* que hace los reemplazos para así preparar el contenido de *Size* a un formato que sea numérico (pero todavía no es numérico). Como resultado obtén el mismo dataframe con las columnas limpiadas.\n",
    "\n",
    "print(ps_data.loc[~ps_data['Size'].str.contains(r'^\\d*\\.?\\d+$'), 'Size']) # Con esta función podemos ver un resumen de los primeros y ultimos 5 elementos. Estoy usando un loc para filtrar por todos aquellos elementos que cumplan la condición interior, siendo esta la de que un elemento cumpla esa regex\n",
    "\n",
    "# Utilizando el filtro sin la negación se observa que no hay de entrada ningún valor que sea numérico. Atendiendo rápidamente a estos valores se ven dos casos:\n",
    "#   1) El campo tiene un número con una M al final.\n",
    "#   3) El campo tiene un número con una k al final.\n",
    "#   2) El campo tiene un texto \"Varies with device\"\n",
    "ps_data = clean(ps_data,'Size',{'M':'000000'})\n",
    "ps_data = clean(ps_data,'Size',{'k':'000'})\n",
    "ps_data = clean(ps_data,'Size',{'Varies with device':'0'})\n",
    "\n",
    "# De nuevo, jugando con esta expresión cambiándole la negación : print(ps_data.loc[ps_data['Size'].str.contains(r'^\\d*\\.?\\d+$'), 'Size'])   Se puede ver como ahora la columna tiene solo valorres numéricos\n",
    "\n",
    "# 2.5. Limpia *Installs* y *Price*.\n",
    "\n",
    "ps_data = clean(ps_data,'Installs',{'+':''})\n",
    "ps_data = clean(ps_data,'Installs',{',':''})\n",
    "ps_data = clean(ps_data,'Price',{'$':''})\n",
    "\n",
    "#De nuevo, utilizando variaciones con el filtrado usado anteriormente podemos identificar los campos no numéricos y reemplazarlos: print(ps_data.loc[~ps_data['Price'].str.contains(r'^\\d*\\.?\\d+$'), 'Price']) \n",
    "\n",
    "# 2.6. Transforma las columnas *Size*, *Installs* y *Price* a numérico. Como resultado obtén el mismo dataframe con las columnas limpiadas.\n",
    "ps_data['Installs'] = pd.to_numeric(ps_data['Installs'],errors='coerce')\n",
    "ps_data['Size'] = pd.to_numeric(ps_data['Size'],errors='coerce')\n",
    "ps_data['Price'] = pd.to_numeric(ps_data['Price'],errors='coerce')\n",
    "\n",
    "#  Tras limpiar, si imprimimos la información del dataframe con print(ps_data.info()) Nos da:\n",
    "# 5   Size            9659 non-null   float64\n",
    "# 6   Installs        9659 non-null   int64  \n",
    "# 7   Price           9659 non-null   float64\n",
    "# Que, a diferencia que antes eran Object, ahora son campos númericos.\n"
   ]
  },
  {
   "cell_type": "markdown",
   "id": "54fa436b",
   "metadata": {},
   "source": [
    "## Ejercicio 3: columna datetime, funciones\n",
    "\n",
    "*Last_Updated* es un caso especial que necesita un trato un poco diferente. *Last_Updated* es *object*, y la intención es que sea un campo de fecha para que se pueda ordenar por fecha.\n",
    "\n",
    "3.1. Define la función *change_format(cad)* donde le pasas la cadena tal com esté en el dataframe, y devuelve la cadena en formato *dd-mm-yyyy*. Es decir, '*8--Jun--18*' ha de retornar '*8-6-2018*'.\n",
    "\n",
    "3.2. Define la función *convert_date(dataframe)*, donde le pasas el dataframe actual, y devuelve el dataframe donde le hemos aplicado la transformación de todas las filas de la columna *Last_Updated*.\n",
    "\n",
    "3.3. Convierte a format datetime. Muestra las 5 primeras filas para comprobar que el resultado es correcto.\n",
    "\n",
    "Aplica todos los cambios sobre el dataframe actual.\n",
    "\n",
    "<span style=\"font-family: Courier New; background-color: #82b74b; color: #000000; padding: 3px; \">SM</span> **(1.5 puntos)**\n"
   ]
  },
  {
   "cell_type": "markdown",
   "id": "e12115ec",
   "metadata": {},
   "source": [
    "<div style=\"background-color: #fcf2f2; border-color: #dfb5b4; border-left: 5px solid #dfb5b4; padding: 0.5em;\">\n",
    "<strong>Solución</strong>\n",
    "</div>"
   ]
  },
  {
   "cell_type": "code",
   "execution_count": 25,
   "id": "63ae966b",
   "metadata": {
    "ExecuteTime": {
     "end_time": "2024-03-29T15:09:02.751157Z",
     "start_time": "2024-03-29T15:09:01.858152Z"
    }
   },
   "outputs": [
    {
     "ename": "ValueError",
     "evalue": "time data '7-1-2018' does not match format '%d--%b--%y'",
     "output_type": "error",
     "traceback": [
      "\u001B[1;31m---------------------------------------------------------------------------\u001B[0m",
      "\u001B[1;31mValueError\u001B[0m                                Traceback (most recent call last)",
      "Cell \u001B[1;32mIn[25], line 16\u001B[0m\n\u001B[0;32m     13\u001B[0m     \u001B[38;5;28;01mreturn\u001B[39;00m dataframe\n\u001B[0;32m     15\u001B[0m \u001B[38;5;66;03m# 3.3. Convierte a format datetime. Muestra las 5 primeras filas para comprobar que el resultado es correcto.\u001B[39;00m\n\u001B[1;32m---> 16\u001B[0m \u001B[38;5;28mprint\u001B[39m(\u001B[43mconvert_date\u001B[49m\u001B[43m(\u001B[49m\u001B[43mps_data\u001B[49m\u001B[43m)\u001B[49m[:\u001B[38;5;241m5\u001B[39m])  \u001B[38;5;66;03m# He entendido que 'Convierte a format datetime' implica transformar el string para toda la columna sin hacer más, ya que también podría pedirse, una vez transformado, que la columna tenga de tipo de dato datetime en lugar de string (pero para esto veo raro que se explicíte en el punto 3.1 la salida de string)\u001B[39;00m\n",
      "Cell \u001B[1;32mIn[25], line 12\u001B[0m, in \u001B[0;36mconvert_date\u001B[1;34m(dataframe)\u001B[0m\n\u001B[0;32m     11\u001B[0m \u001B[38;5;28;01mdef\u001B[39;00m \u001B[38;5;21mconvert_date\u001B[39m(dataframe: pd\u001B[38;5;241m.\u001B[39mDataFrame)\u001B[38;5;241m-\u001B[39m\u001B[38;5;241m>\u001B[39mpd\u001B[38;5;241m.\u001B[39mDataFrame:\n\u001B[1;32m---> 12\u001B[0m     dataframe[\u001B[38;5;124m'\u001B[39m\u001B[38;5;124mLast_Updated\u001B[39m\u001B[38;5;124m'\u001B[39m]\u001B[38;5;241m=\u001B[39m\u001B[43mdataframe\u001B[49m\u001B[43m[\u001B[49m\u001B[38;5;124;43m'\u001B[39;49m\u001B[38;5;124;43mLast_Updated\u001B[39;49m\u001B[38;5;124;43m'\u001B[39;49m\u001B[43m]\u001B[49m\u001B[38;5;241;43m.\u001B[39;49m\u001B[43mapply\u001B[49m\u001B[43m(\u001B[49m\u001B[43mchange_format\u001B[49m\u001B[43m)\u001B[49m\n\u001B[0;32m     13\u001B[0m     \u001B[38;5;28;01mreturn\u001B[39;00m dataframe\n",
      "File \u001B[1;32m~\\PycharmProjects\\ProgramacionParaLaCienciaDeDatos\\.venv\\Lib\\site-packages\\pandas\\core\\series.py:4915\u001B[0m, in \u001B[0;36mSeries.apply\u001B[1;34m(self, func, convert_dtype, args, by_row, **kwargs)\u001B[0m\n\u001B[0;32m   4780\u001B[0m \u001B[38;5;28;01mdef\u001B[39;00m \u001B[38;5;21mapply\u001B[39m(\n\u001B[0;32m   4781\u001B[0m     \u001B[38;5;28mself\u001B[39m,\n\u001B[0;32m   4782\u001B[0m     func: AggFuncType,\n\u001B[1;32m   (...)\u001B[0m\n\u001B[0;32m   4787\u001B[0m     \u001B[38;5;241m*\u001B[39m\u001B[38;5;241m*\u001B[39mkwargs,\n\u001B[0;32m   4788\u001B[0m ) \u001B[38;5;241m-\u001B[39m\u001B[38;5;241m>\u001B[39m DataFrame \u001B[38;5;241m|\u001B[39m Series:\n\u001B[0;32m   4789\u001B[0m \u001B[38;5;250m    \u001B[39m\u001B[38;5;124;03m\"\"\"\u001B[39;00m\n\u001B[0;32m   4790\u001B[0m \u001B[38;5;124;03m    Invoke function on values of Series.\u001B[39;00m\n\u001B[0;32m   4791\u001B[0m \n\u001B[1;32m   (...)\u001B[0m\n\u001B[0;32m   4906\u001B[0m \u001B[38;5;124;03m    dtype: float64\u001B[39;00m\n\u001B[0;32m   4907\u001B[0m \u001B[38;5;124;03m    \"\"\"\u001B[39;00m\n\u001B[0;32m   4908\u001B[0m     \u001B[38;5;28;01mreturn\u001B[39;00m \u001B[43mSeriesApply\u001B[49m\u001B[43m(\u001B[49m\n\u001B[0;32m   4909\u001B[0m \u001B[43m        \u001B[49m\u001B[38;5;28;43mself\u001B[39;49m\u001B[43m,\u001B[49m\n\u001B[0;32m   4910\u001B[0m \u001B[43m        \u001B[49m\u001B[43mfunc\u001B[49m\u001B[43m,\u001B[49m\n\u001B[0;32m   4911\u001B[0m \u001B[43m        \u001B[49m\u001B[43mconvert_dtype\u001B[49m\u001B[38;5;241;43m=\u001B[39;49m\u001B[43mconvert_dtype\u001B[49m\u001B[43m,\u001B[49m\n\u001B[0;32m   4912\u001B[0m \u001B[43m        \u001B[49m\u001B[43mby_row\u001B[49m\u001B[38;5;241;43m=\u001B[39;49m\u001B[43mby_row\u001B[49m\u001B[43m,\u001B[49m\n\u001B[0;32m   4913\u001B[0m \u001B[43m        \u001B[49m\u001B[43margs\u001B[49m\u001B[38;5;241;43m=\u001B[39;49m\u001B[43margs\u001B[49m\u001B[43m,\u001B[49m\n\u001B[0;32m   4914\u001B[0m \u001B[43m        \u001B[49m\u001B[43mkwargs\u001B[49m\u001B[38;5;241;43m=\u001B[39;49m\u001B[43mkwargs\u001B[49m\u001B[43m,\u001B[49m\n\u001B[1;32m-> 4915\u001B[0m \u001B[43m    \u001B[49m\u001B[43m)\u001B[49m\u001B[38;5;241;43m.\u001B[39;49m\u001B[43mapply\u001B[49m\u001B[43m(\u001B[49m\u001B[43m)\u001B[49m\n",
      "File \u001B[1;32m~\\PycharmProjects\\ProgramacionParaLaCienciaDeDatos\\.venv\\Lib\\site-packages\\pandas\\core\\apply.py:1427\u001B[0m, in \u001B[0;36mSeriesApply.apply\u001B[1;34m(self)\u001B[0m\n\u001B[0;32m   1424\u001B[0m     \u001B[38;5;28;01mreturn\u001B[39;00m \u001B[38;5;28mself\u001B[39m\u001B[38;5;241m.\u001B[39mapply_compat()\n\u001B[0;32m   1426\u001B[0m \u001B[38;5;66;03m# self.func is Callable\u001B[39;00m\n\u001B[1;32m-> 1427\u001B[0m \u001B[38;5;28;01mreturn\u001B[39;00m \u001B[38;5;28;43mself\u001B[39;49m\u001B[38;5;241;43m.\u001B[39;49m\u001B[43mapply_standard\u001B[49m\u001B[43m(\u001B[49m\u001B[43m)\u001B[49m\n",
      "File \u001B[1;32m~\\PycharmProjects\\ProgramacionParaLaCienciaDeDatos\\.venv\\Lib\\site-packages\\pandas\\core\\apply.py:1507\u001B[0m, in \u001B[0;36mSeriesApply.apply_standard\u001B[1;34m(self)\u001B[0m\n\u001B[0;32m   1501\u001B[0m \u001B[38;5;66;03m# row-wise access\u001B[39;00m\n\u001B[0;32m   1502\u001B[0m \u001B[38;5;66;03m# apply doesn't have a `na_action` keyword and for backward compat reasons\u001B[39;00m\n\u001B[0;32m   1503\u001B[0m \u001B[38;5;66;03m# we need to give `na_action=\"ignore\"` for categorical data.\u001B[39;00m\n\u001B[0;32m   1504\u001B[0m \u001B[38;5;66;03m# TODO: remove the `na_action=\"ignore\"` when that default has been changed in\u001B[39;00m\n\u001B[0;32m   1505\u001B[0m \u001B[38;5;66;03m#  Categorical (GH51645).\u001B[39;00m\n\u001B[0;32m   1506\u001B[0m action \u001B[38;5;241m=\u001B[39m \u001B[38;5;124m\"\u001B[39m\u001B[38;5;124mignore\u001B[39m\u001B[38;5;124m\"\u001B[39m \u001B[38;5;28;01mif\u001B[39;00m \u001B[38;5;28misinstance\u001B[39m(obj\u001B[38;5;241m.\u001B[39mdtype, CategoricalDtype) \u001B[38;5;28;01melse\u001B[39;00m \u001B[38;5;28;01mNone\u001B[39;00m\n\u001B[1;32m-> 1507\u001B[0m mapped \u001B[38;5;241m=\u001B[39m \u001B[43mobj\u001B[49m\u001B[38;5;241;43m.\u001B[39;49m\u001B[43m_map_values\u001B[49m\u001B[43m(\u001B[49m\n\u001B[0;32m   1508\u001B[0m \u001B[43m    \u001B[49m\u001B[43mmapper\u001B[49m\u001B[38;5;241;43m=\u001B[39;49m\u001B[43mcurried\u001B[49m\u001B[43m,\u001B[49m\u001B[43m \u001B[49m\u001B[43mna_action\u001B[49m\u001B[38;5;241;43m=\u001B[39;49m\u001B[43maction\u001B[49m\u001B[43m,\u001B[49m\u001B[43m \u001B[49m\u001B[43mconvert\u001B[49m\u001B[38;5;241;43m=\u001B[39;49m\u001B[38;5;28;43mself\u001B[39;49m\u001B[38;5;241;43m.\u001B[39;49m\u001B[43mconvert_dtype\u001B[49m\n\u001B[0;32m   1509\u001B[0m \u001B[43m\u001B[49m\u001B[43m)\u001B[49m\n\u001B[0;32m   1511\u001B[0m \u001B[38;5;28;01mif\u001B[39;00m \u001B[38;5;28mlen\u001B[39m(mapped) \u001B[38;5;129;01mand\u001B[39;00m \u001B[38;5;28misinstance\u001B[39m(mapped[\u001B[38;5;241m0\u001B[39m], ABCSeries):\n\u001B[0;32m   1512\u001B[0m     \u001B[38;5;66;03m# GH#43986 Need to do list(mapped) in order to get treated as nested\u001B[39;00m\n\u001B[0;32m   1513\u001B[0m     \u001B[38;5;66;03m#  See also GH#25959 regarding EA support\u001B[39;00m\n\u001B[0;32m   1514\u001B[0m     \u001B[38;5;28;01mreturn\u001B[39;00m obj\u001B[38;5;241m.\u001B[39m_constructor_expanddim(\u001B[38;5;28mlist\u001B[39m(mapped), index\u001B[38;5;241m=\u001B[39mobj\u001B[38;5;241m.\u001B[39mindex)\n",
      "File \u001B[1;32m~\\PycharmProjects\\ProgramacionParaLaCienciaDeDatos\\.venv\\Lib\\site-packages\\pandas\\core\\base.py:921\u001B[0m, in \u001B[0;36mIndexOpsMixin._map_values\u001B[1;34m(self, mapper, na_action, convert)\u001B[0m\n\u001B[0;32m    918\u001B[0m \u001B[38;5;28;01mif\u001B[39;00m \u001B[38;5;28misinstance\u001B[39m(arr, ExtensionArray):\n\u001B[0;32m    919\u001B[0m     \u001B[38;5;28;01mreturn\u001B[39;00m arr\u001B[38;5;241m.\u001B[39mmap(mapper, na_action\u001B[38;5;241m=\u001B[39mna_action)\n\u001B[1;32m--> 921\u001B[0m \u001B[38;5;28;01mreturn\u001B[39;00m \u001B[43malgorithms\u001B[49m\u001B[38;5;241;43m.\u001B[39;49m\u001B[43mmap_array\u001B[49m\u001B[43m(\u001B[49m\u001B[43marr\u001B[49m\u001B[43m,\u001B[49m\u001B[43m \u001B[49m\u001B[43mmapper\u001B[49m\u001B[43m,\u001B[49m\u001B[43m \u001B[49m\u001B[43mna_action\u001B[49m\u001B[38;5;241;43m=\u001B[39;49m\u001B[43mna_action\u001B[49m\u001B[43m,\u001B[49m\u001B[43m \u001B[49m\u001B[43mconvert\u001B[49m\u001B[38;5;241;43m=\u001B[39;49m\u001B[43mconvert\u001B[49m\u001B[43m)\u001B[49m\n",
      "File \u001B[1;32m~\\PycharmProjects\\ProgramacionParaLaCienciaDeDatos\\.venv\\Lib\\site-packages\\pandas\\core\\algorithms.py:1743\u001B[0m, in \u001B[0;36mmap_array\u001B[1;34m(arr, mapper, na_action, convert)\u001B[0m\n\u001B[0;32m   1741\u001B[0m values \u001B[38;5;241m=\u001B[39m arr\u001B[38;5;241m.\u001B[39mastype(\u001B[38;5;28mobject\u001B[39m, copy\u001B[38;5;241m=\u001B[39m\u001B[38;5;28;01mFalse\u001B[39;00m)\n\u001B[0;32m   1742\u001B[0m \u001B[38;5;28;01mif\u001B[39;00m na_action \u001B[38;5;129;01mis\u001B[39;00m \u001B[38;5;28;01mNone\u001B[39;00m:\n\u001B[1;32m-> 1743\u001B[0m     \u001B[38;5;28;01mreturn\u001B[39;00m \u001B[43mlib\u001B[49m\u001B[38;5;241;43m.\u001B[39;49m\u001B[43mmap_infer\u001B[49m\u001B[43m(\u001B[49m\u001B[43mvalues\u001B[49m\u001B[43m,\u001B[49m\u001B[43m \u001B[49m\u001B[43mmapper\u001B[49m\u001B[43m,\u001B[49m\u001B[43m \u001B[49m\u001B[43mconvert\u001B[49m\u001B[38;5;241;43m=\u001B[39;49m\u001B[43mconvert\u001B[49m\u001B[43m)\u001B[49m\n\u001B[0;32m   1744\u001B[0m \u001B[38;5;28;01melse\u001B[39;00m:\n\u001B[0;32m   1745\u001B[0m     \u001B[38;5;28;01mreturn\u001B[39;00m lib\u001B[38;5;241m.\u001B[39mmap_infer_mask(\n\u001B[0;32m   1746\u001B[0m         values, mapper, mask\u001B[38;5;241m=\u001B[39misna(values)\u001B[38;5;241m.\u001B[39mview(np\u001B[38;5;241m.\u001B[39muint8), convert\u001B[38;5;241m=\u001B[39mconvert\n\u001B[0;32m   1747\u001B[0m     )\n",
      "File \u001B[1;32mlib.pyx:2972\u001B[0m, in \u001B[0;36mpandas._libs.lib.map_infer\u001B[1;34m()\u001B[0m\n",
      "Cell \u001B[1;32mIn[25], line 5\u001B[0m, in \u001B[0;36mchange_format\u001B[1;34m(cad)\u001B[0m\n\u001B[0;32m      4\u001B[0m \u001B[38;5;28;01mdef\u001B[39;00m \u001B[38;5;21mchange_format\u001B[39m(cad:\u001B[38;5;28mstr\u001B[39m)\u001B[38;5;241m-\u001B[39m\u001B[38;5;241m>\u001B[39m\u001B[38;5;28mstr\u001B[39m:\n\u001B[1;32m----> 5\u001B[0m     date_read \u001B[38;5;241m=\u001B[39m \u001B[43mdatetime\u001B[49m\u001B[38;5;241;43m.\u001B[39;49m\u001B[43mstrptime\u001B[49m\u001B[43m(\u001B[49m\u001B[43mcad\u001B[49m\u001B[43m,\u001B[49m\u001B[43m \u001B[49m\u001B[38;5;124;43m\"\u001B[39;49m\u001B[38;5;132;43;01m%d\u001B[39;49;00m\u001B[38;5;124;43m--\u001B[39;49m\u001B[38;5;124;43m%\u001B[39;49m\u001B[38;5;124;43mb--\u001B[39;49m\u001B[38;5;124;43m%\u001B[39;49m\u001B[38;5;124;43my\u001B[39;49m\u001B[38;5;124;43m\"\u001B[39;49m\u001B[43m)\u001B[49m \u001B[38;5;66;03m# Parsea la fecha pasada como parámetro en un datetime indicándole el formato de entrada\u001B[39;00m\n\u001B[0;32m      6\u001B[0m     \u001B[38;5;28;01mreturn\u001B[39;00m \u001B[38;5;124mf\u001B[39m\u001B[38;5;124m\"\u001B[39m\u001B[38;5;132;01m{\u001B[39;00mdate_read\u001B[38;5;241m.\u001B[39mday\u001B[38;5;132;01m}\u001B[39;00m\u001B[38;5;124m-\u001B[39m\u001B[38;5;132;01m{\u001B[39;00mdate_read\u001B[38;5;241m.\u001B[39mmonth\u001B[38;5;132;01m}\u001B[39;00m\u001B[38;5;124m-\u001B[39m\u001B[38;5;132;01m{\u001B[39;00mdate_read\u001B[38;5;241m.\u001B[39myear\u001B[38;5;132;01m}\u001B[39;00m\u001B[38;5;124m\"\u001B[39m\n",
      "File \u001B[1;32m~\\AppData\\Local\\Programs\\Python\\Python312\\Lib\\_strptime.py:555\u001B[0m, in \u001B[0;36m_strptime_datetime\u001B[1;34m(cls, data_string, format)\u001B[0m\n\u001B[0;32m    552\u001B[0m \u001B[38;5;28;01mdef\u001B[39;00m \u001B[38;5;21m_strptime_datetime\u001B[39m(\u001B[38;5;28mcls\u001B[39m, data_string, \u001B[38;5;28mformat\u001B[39m\u001B[38;5;241m=\u001B[39m\u001B[38;5;124m\"\u001B[39m\u001B[38;5;132;01m%a\u001B[39;00m\u001B[38;5;124m \u001B[39m\u001B[38;5;124m%\u001B[39m\u001B[38;5;124mb \u001B[39m\u001B[38;5;132;01m%d\u001B[39;00m\u001B[38;5;124m \u001B[39m\u001B[38;5;124m%\u001B[39m\u001B[38;5;124mH:\u001B[39m\u001B[38;5;124m%\u001B[39m\u001B[38;5;124mM:\u001B[39m\u001B[38;5;124m%\u001B[39m\u001B[38;5;124mS \u001B[39m\u001B[38;5;124m%\u001B[39m\u001B[38;5;124mY\u001B[39m\u001B[38;5;124m\"\u001B[39m):\n\u001B[0;32m    553\u001B[0m \u001B[38;5;250m    \u001B[39m\u001B[38;5;124;03m\"\"\"Return a class cls instance based on the input string and the\u001B[39;00m\n\u001B[0;32m    554\u001B[0m \u001B[38;5;124;03m    format string.\"\"\"\u001B[39;00m\n\u001B[1;32m--> 555\u001B[0m     tt, fraction, gmtoff_fraction \u001B[38;5;241m=\u001B[39m \u001B[43m_strptime\u001B[49m\u001B[43m(\u001B[49m\u001B[43mdata_string\u001B[49m\u001B[43m,\u001B[49m\u001B[43m \u001B[49m\u001B[38;5;28;43mformat\u001B[39;49m\u001B[43m)\u001B[49m\n\u001B[0;32m    556\u001B[0m     tzname, gmtoff \u001B[38;5;241m=\u001B[39m tt[\u001B[38;5;241m-\u001B[39m\u001B[38;5;241m2\u001B[39m:]\n\u001B[0;32m    557\u001B[0m     args \u001B[38;5;241m=\u001B[39m tt[:\u001B[38;5;241m6\u001B[39m] \u001B[38;5;241m+\u001B[39m (fraction,)\n",
      "File \u001B[1;32m~\\AppData\\Local\\Programs\\Python\\Python312\\Lib\\_strptime.py:333\u001B[0m, in \u001B[0;36m_strptime\u001B[1;34m(data_string, format)\u001B[0m\n\u001B[0;32m    331\u001B[0m found \u001B[38;5;241m=\u001B[39m format_regex\u001B[38;5;241m.\u001B[39mmatch(data_string)\n\u001B[0;32m    332\u001B[0m \u001B[38;5;28;01mif\u001B[39;00m \u001B[38;5;129;01mnot\u001B[39;00m found:\n\u001B[1;32m--> 333\u001B[0m     \u001B[38;5;28;01mraise\u001B[39;00m \u001B[38;5;167;01mValueError\u001B[39;00m(\u001B[38;5;124m\"\u001B[39m\u001B[38;5;124mtime data \u001B[39m\u001B[38;5;132;01m%r\u001B[39;00m\u001B[38;5;124m does not match format \u001B[39m\u001B[38;5;132;01m%r\u001B[39;00m\u001B[38;5;124m\"\u001B[39m \u001B[38;5;241m%\u001B[39m\n\u001B[0;32m    334\u001B[0m                      (data_string, \u001B[38;5;28mformat\u001B[39m))\n\u001B[0;32m    335\u001B[0m \u001B[38;5;28;01mif\u001B[39;00m \u001B[38;5;28mlen\u001B[39m(data_string) \u001B[38;5;241m!=\u001B[39m found\u001B[38;5;241m.\u001B[39mend():\n\u001B[0;32m    336\u001B[0m     \u001B[38;5;28;01mraise\u001B[39;00m \u001B[38;5;167;01mValueError\u001B[39;00m(\u001B[38;5;124m\"\u001B[39m\u001B[38;5;124munconverted data remains: \u001B[39m\u001B[38;5;132;01m%s\u001B[39;00m\u001B[38;5;124m\"\u001B[39m \u001B[38;5;241m%\u001B[39m\n\u001B[0;32m    337\u001B[0m                       data_string[found\u001B[38;5;241m.\u001B[39mend():])\n",
      "\u001B[1;31mValueError\u001B[0m: time data '7-1-2018' does not match format '%d--%b--%y'"
     ]
    }
   ],
   "source": [
    "from datetime import datetime\n",
    "\n",
    "# 3.1. Define la función *change_format(cad)* donde le pasas la cadena tal com esté en el dataframe, y devuelve la cadena en formato *dd-mm-yyyy*. Es decir, '*8--Jun--18*' ha de retornar '*8-6-2018*'.\n",
    "def change_format(cad:str)->str:\n",
    "    date_read = datetime.strptime(cad, \"%d--%b--%y\") # Parsea la fecha pasada como parámetro en un datetime indicándole el formato de entrada\n",
    "    return f\"{date_read.day}-{date_read.month}-{date_read.year}\" # Se devuelve transformandolo en un string con el nuevo formato\n",
    "    #return date_read.strftime(\"%-d-%-m-%Y\")  #Había probado strftime, pero lo devuelve con los ceros delante de los números de días y meses de una cifra\n",
    "\n",
    "# 3.2. Define la función *convert_date(dataframe)*, donde le pasas el dataframe actual, y devuelve el dataframe donde le hemos aplicado la transformación de todas las filas de la columna *Last_Updated*.\n",
    "\n",
    "def convert_date(dataframe: pd.DataFrame)->pd.DataFrame:\n",
    "    dataframe['Last_Updated']=dataframe['Last_Updated'].apply(change_format)\n",
    "    return dataframe\n",
    "\n",
    "# 3.3. Convierte a format datetime. Muestra las 5 primeras filas para comprobar que el resultado es correcto.\n",
    "print(convert_date(ps_data)[:5])  # He entendido que 'Convierte a format datetime' implica transformar el string para toda la columna sin hacer más, ya que también podría pedirse, una vez transformado, que la columna tenga de tipo de dato datetime en lugar de string (pero para esto veo raro que se explicíte en el punto 3.1 la salida de string)\n",
    "\n",
    "    "
   ]
  },
  {
   "cell_type": "markdown",
   "id": "b16b32ad",
   "metadata": {},
   "source": [
    "## Ejercicio 4: filtrar datos\n",
    "\n",
    "Realiza los siguientes ejercicios:\n",
    "\n",
    "4.1. Busca todas las apps que contengan '*fc barcelona*' (ignorando mayúsculas y minúsculas), e imprime los resultados, ordenados por fecha, con el formato:\n",
    "   * *({ID}) {nom_app}: {Rating}, {Last_Updated}*\n",
    "\n",
    "Por ejemplo: *(10239) FC Barcelona Fantasy Manager: Real football mobile: 4.4, 02/10/2017*\n",
    "\n",
    "4.2. Muestra el número de apps que tienen un Rating entre 0 y 2.9 (incluido). Primero muestra el valor por pantalla, después haz un *assert* de manera que la aserción sea correcta.\n",
    "\n",
    "4.3. ¿Qué tanto por ciento de aplicaciones tienen un rating entre 0 y 2.9? Muéstralo con el formato \"*Porcentaje de apps inferior a 2.9: xxx %*\", con dos decimales.\n",
    "\n",
    "4.4. Eliminar todas las aplicaciones que tienen una puntuación entre 0 y 2.9 y las pones en el dataframe *df_good* (manteniendo el dataframe original intacto). ¿Cuántas tenemos ahora?\n",
    "\n",
    "<span style=\"font-family: Courier New; background-color: #82b74b; color: #000000; padding: 3px; \">SM</span> **(1.5 puntos)**\n"
   ]
  },
  {
   "cell_type": "markdown",
   "id": "3c3729d7",
   "metadata": {},
   "source": [
    "<div style=\"background-color: #fcf2f2; border-color: #dfb5b4; border-left: 5px solid #dfb5b4; padding: 0.5em;\">\n",
    "<strong>Solución</strong>\n",
    "</div>"
   ]
  },
  {
   "cell_type": "code",
   "execution_count": null,
   "id": "d447b402",
   "metadata": {},
   "outputs": [],
   "source": []
  },
  {
   "cell_type": "markdown",
   "id": "e3665959",
   "metadata": {},
   "source": [
    "## Ejercicio 5: Lista\n",
    "\n",
    "Realiza los siguientes ejercicios:\n",
    "\n",
    "5.1. Crea una lista que se llame *best_apps* con las aplicaciones que valgan 3 o más dólares, y que tengan un rating máyor o igual que 4.5. El contenido de la lista sólo es el nombre de la app.\n",
    "\n",
    "5.2. ¿Qué longitud tiene esta lista? No lo muestres por pantalla, haz un *assert* con el valor de la longitud que te ha salido.\n",
    "\n",
    "5.3. Ordena la lista por longitud de caracteres (de menos a más) y muestra las 10 primeras aplicaciones. Aplícalo sobre la misma lista.\n",
    "\n",
    "5.4. A partir de la lista *best_apps*, crea una nueva lista (*best_apps_clean*) con *comprehension list* donde habrás eliminado todos los caracteres que no sean alfanuméricos (comillas dobles, comillas simples). También hay caracteres gráficos como diamantes, estrellas, etc. Puedes tratar estos caracteres especiales igual que los caracteres normales. Elimina tambié todo lo que esté entre paréntesis. La eliminación la tienes que hacer con una expresión regular. Muestra las 30 primeras filas.\n",
    "\n",
    "<span style=\"font-family: Courier New; background-color: #82b74b; color: #000000; padding: 3px; \">SM</span> **(1.5 puntos)**\n"
   ]
  },
  {
   "cell_type": "markdown",
   "id": "437eeec2",
   "metadata": {},
   "source": [
    "<div style=\"background-color: #fcf2f2; border-color: #dfb5b4; border-left: 5px solid #dfb5b4; padding: 0.5em;\">\n",
    "<strong>Solución</strong>\n",
    "</div>"
   ]
  },
  {
   "cell_type": "code",
   "execution_count": null,
   "id": "b55c2cea",
   "metadata": {},
   "outputs": [],
   "source": []
  },
  {
   "cell_type": "markdown",
   "id": "61b3c6c1",
   "metadata": {},
   "source": [
    "## Ejercicio 6: Agrupamiento de datos\n",
    "\n",
    "Crea un nuevo dataframe (*my_df*) con los siguientes requisitos:\n",
    "\n",
    "   * Rating superior a 4\n",
    "   * reviews >= 5000\n",
    "   * tamany inferior a 10000000\n",
    "   * instalaciones >= 50000\n",
    "   * Content Rating: Everyone\n",
    "\n",
    "6.1. ¿Qué tamaño tiene? Muestra los 10 primeros valores.\n",
    "\n",
    "6.2. Crea una lista de diccionarios (*my_dict*, utiliza *dict comprehension*) a partir del anterior dataframe *my_df*, de manera que el primer campo sea el nombre de la aplicación (app), y el segundo campo el género (*Genre*).\n",
    "\n",
    "6.3. A partir del dataframe my_df, haz un agrupamiento (group by) del número de apps por categoría (*my_df_gb*).\n",
    "\n",
    "6.4. Elimina del dataframe resultante los géneros que tienen menos de 20 apps.\n",
    "\n",
    "6.5. Muestra el dataframe resultante por pantalla (continua siendo el dataframe *my_df_gb*).\n",
    "\n",
    "<span style=\"font-family: Courier New; background-color: #ffcc5c; color: #000000; padding: 3px; \">EG</span> **(1.5 punts)**\n"
   ]
  },
  {
   "cell_type": "markdown",
   "id": "d49f44e3",
   "metadata": {},
   "source": [
    "<div style=\"background-color: #fcf2f2; border-color: #dfb5b4; border-left: 5px solid #dfb5b4; padding: 0.5em;\">\n",
    "<strong>Solución</strong>\n",
    "</div>"
   ]
  },
  {
   "cell_type": "code",
   "execution_count": null,
   "id": "ff11ced4",
   "metadata": {},
   "outputs": [],
   "source": []
  },
  {
   "cell_type": "markdown",
   "id": "84d61c39",
   "metadata": {},
   "source": [
    "## Ejercicio 7: Representación gráfica\n",
    "\n",
    "Vamos a representar gráficamente el número de apps que tiene cada género. Puedes aplicar los cambios en *my_df_gb*:\n",
    "\n",
    "   * Renombra una de las columnas a Count.\n",
    "   * Nos quedaremos con un dataframe de una sola columna, Genres y Count. Puedes eliminar las otras columnas.\n",
    "\n",
    "7.1. Representa en un diagrama de barras el total de aplicacions que al final han quedado por cada género. Para representar los datos tenemos varias alternativas. Una posibilidad es convertir los datos del dataframe en dos listas, una para el eje de las x y la otra para el eje de las y.\n",
    "\n",
    "7.2. Representa la misma información en un diagrama de sectores circulares.\n",
    "\n",
    "<span style=\"font-family: Courier New; background-color: #82b74b; color: #000000; padding: 3px; \">SM</span> **(1.5 puntos)**\n"
   ]
  },
  {
   "cell_type": "markdown",
   "id": "646a586e",
   "metadata": {},
   "source": [
    "<div style=\"background-color: #fcf2f2; border-color: #dfb5b4; border-left: 5px solid #dfb5b4; padding: 0.5em;\">\n",
    "<strong>Solución</strong>\n",
    "</div>"
   ]
  },
  {
   "cell_type": "code",
   "execution_count": null,
   "id": "aa8036ae",
   "metadata": {},
   "outputs": [],
   "source": []
  }
 ],
 "metadata": {
  "colab": {
   "provenance": []
  },
  "kernelspec": {
   "display_name": "Python 3 (ipykernel)",
   "language": "python",
   "name": "python3"
  },
  "language_info": {
   "codemirror_mode": {
    "name": "ipython",
    "version": 3
   },
   "file_extension": ".py",
   "mimetype": "text/x-python",
   "name": "python",
   "nbconvert_exporter": "python",
   "pygments_lexer": "ipython3",
   "version": "3.8.10"
  },
  "toc": {
   "base_numbering": 1,
   "nav_menu": {},
   "number_sections": true,
   "sideBar": true,
   "skip_h1_title": false,
   "title_cell": "Table of Contents",
   "title_sidebar": "Contents",
   "toc_cell": false,
   "toc_position": {},
   "toc_section_display": true,
   "toc_window_display": false
  },
  "varInspector": {
   "cols": {
    "lenName": 16,
    "lenType": 16,
    "lenVar": 40
   },
   "kernels_config": {
    "python": {
     "delete_cmd_postfix": "",
     "delete_cmd_prefix": "del ",
     "library": "var_list.py",
     "varRefreshCmd": "print(var_dic_list())"
    },
    "r": {
     "delete_cmd_postfix": ") ",
     "delete_cmd_prefix": "rm(",
     "library": "var_list.r",
     "varRefreshCmd": "cat(var_dic_list()) "
    }
   },
   "types_to_exclude": [
    "module",
    "function",
    "builtin_function_or_method",
    "instance",
    "_Feature"
   ],
   "window_display": false
  }
 },
 "nbformat": 4,
 "nbformat_minor": 5
}
