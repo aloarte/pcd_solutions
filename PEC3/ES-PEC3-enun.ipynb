{
 "cells": [
  {
   "cell_type": "markdown",
   "metadata": {
    "id": "ciZKmqSXkYK8"
   },
   "source": [
    "<div style=\"width: 100%; clear: both;\">\n",
    "    <div style=\"float: left; width: 50%;\">\n",
    "       <img src=\"http://www.uoc.edu/portal/_resources/common/imatges/marca_UOC/UOC_Masterbrand.jpg\", align=\"left\">\n",
    "    </div>\n",
    "</div>\n",
    "\n",
    "<div style=\"float: right; width: 50%;\">\n",
    "    <p style=\"margin: 0; padding-top: 22px; text-align:right;\">22.503 · Programación para la ciencia de datos</p>\n",
    "    <p style=\"margin: 0; text-align:right;\">Grado en Ciencia de Datos Aplicada</p>\n",
    "    <p style=\"margin: 0; text-align:right; padding-button: 100px;\">Estudios de Informática, Multimedia y Telecomunicaciones</p>\n",
    "</div>\n",
    "\n",
    "</div>\n",
    "<div style=\"width: 100%; clear: both;\">\n",
    "<div style=\"width:100%;\">&nbsp;</div>"
   ]
  },
  {
   "cell_type": "markdown",
   "metadata": {
    "id": "HMIEK_5PkYK9"
   },
   "source": [
    "Programación para la ciencia de datos - PEC3\n",
    "============================\n",
    "\n",
    "En este Notebook encontraréis un conjunto de ejercicios que suponen la tercera prueba de evaluación continua (PEC) de la asignatura.\n",
    "\n",
    "Para cada ejercicio, tened en cuenta que:\n",
    "* **Es necesario incluir comentarios** de vuestro código que expliquen como habéis implementado la solución del problema planteado.\n",
    "* **Es imprescindible** citar las referencias que habéis consultado para realizar la actividad.\n",
    "* Se valorará que el código proporcionado solucione el problema propuesto así como su calidad (comentarios, legibilidad, claridad, uso de las estructuras de datos adecuadas, buena nomenclatura de las variables y funciones, seguimiento del PEP8, etc.).\n",
    "\n",
    "Veréis que cada una de las actividades tiene asociada una puntuación que indica el peso que tiene la actividad sobre la nota de la PEC.\n",
    "\n",
    "Además, veréis que todas las actividades tienen una etiqueta que indica los recursos necesarios para llevarla a cabo. Hay tres posibles etiquetas:\n",
    "\n",
    "* <span style=\"font-family: Courier New; background-color: #82b74b; color: #000000; padding: 3px; \">SM</span> **Solo materiales**: las herramientas necesarias para realizar la actividad se pueden encontrar en los materiales de la asignatura (consideraremos también los materiales de la asignatura Fundamentos de Programación, así como las lecturas obligatorias de material externo que se indiquen en los notebooks).\n",
    "\n",
    "* <span style=\"font-family: Courier New; background-color: #ffcc5c; color: #000000; padding: 3px; \">EG</span> **Consulta externa guiada**: la actividad puede requerir el uso de herramientas que no se encuentren en los materiales de la asignatura, pero el enunciado contiene indicaciones de dónde o cómo encontrar la información adicional necesaria para resolver la actividad.\n",
    "\n",
    "* <span style=\"font-family: Courier New; background-color: #f2ae72; color: #000000; padding: 3px; \">EI</span> **Consulta externa independiente**: la actividad puede requerir el uso de herramientas que no se encuentren en los materiales de la asignatura, y el enunciado puede no incluir la descripción de dónde o cómo encontrar esta información adicional. Será necesario que el estudiante busque esta información usando los recursos explicados en la asignatura.\n",
    "\n",
    "Es importante notar que estas etiquetas no indican el nivel de dificultad del ejercicio, sino únicamente la necesidad de consulta de documentación externa para su resolución. Además, recordad que las **etiquetas son informativas**, pero podréis consultar referencias externas siempre que queráis (aunque no se indique explícitamente) o puede que podáis hacer una actividad sin consultar ningún tipo de documentación. Por ejemplo, para resolver una actividad que solo requiera los materiales de la asignatura, podéis consultar referencias externas si queréis, ¡ya sea tanto para ayudaros en su resolución como para ampliar conocimiento!\n",
    "\n",
    "**Importante**: Además de la puntuación de cada ejercicio, que valora la calidad de la solución que proponéis y los resultados obtenidos, en esta PEC se valoran 3 aspectos adicionales, transversales a todas las actividades:\n",
    "\n",
    "* **Documentación** (**0.25*f puntos**): Todas las funciones de los ejercicios de esta PEC deberán estar correctamente documentadas utilizando *docstrings* (en el formato que prefiráis).\n",
    "\n",
    "* **Modularidad** (**0.5*f puntos**): Se valorará la modularidad del código (la correcta estructuración del código en funciones).\n",
    "\n",
    "* **Estilo** (**0.25*f puntos**): El código tiene que seguir la guía de estilo de Python [PEP8](https://www.python.org/dev/peps/pep-0008/), exceptuando los casos donde hacerlo complique la legibilidad del código.\n",
    "\n",
    "Donde $f$ es la fracción de la PEC realizada. Es decir, la nota de estos aspectos transversales será proporcional a la parte de la PEC realizada.\n",
    "\n",
    "Así, los aspectos transversales tendrán una puntuación máxima de 1 punto si se entregan todos los ejercicios de la PEC. En caso contrario, la nota de aspectos transversales se multiplicará por la fracción de la PEC entregada. Por ejemplo, si los aspectos transversales están puntuados con un 1 pero solo hay la mitad de la PEC entregada, la nota de aspectos transversales será $1*0.5=0.5$."
   ]
  },
  {
   "cell_type": "markdown",
   "metadata": {
    "id": "ef0129pFkYK9"
   },
   "source": [
    "---\n",
    "\n",
    "## Antes de empezar\n",
    "\n",
    "Leed atentamente los párrafos que siguen, relacionados con la originalidad en las actividades, antes de empezar a trabajar en la PEC. Si os surge cualquier duda dirigiros al profesor colaborador de la asignatura antes de continuar con la actividad.\n",
    "\n",
    "<div class=\"alert alert-block alert-success\"> La falta de originalidad se produce cuando en una actividad aparece contenido que no ha sido elaborado de forma individual por el estudiante y no se referencia adecuadamente su origen. O bien cuando, aunque el contenido externo esté referenciado, este es tan extenso que no es posible considerar al estudiante el autor o autora de la actividad.\n",
    "<br /><br />\n",
    "Así, algunos ejemplos de comportamientos inadecuados debido a falta de originalidad son:\n",
    "<ol>\n",
    "    <li>Crear la solución de un ejercicio de la PEC en colaboración entre diversos estudiantes.</li>\n",
    "    <li>Incluir un ejercicio de la PEC que utiliza código encontrado en internet sin citar la fuente.</li>\n",
    "    <li>Compartir vuestra solución de la PEC con otros estudiantes de la asignatura.</li>\n",
    "    </ol>\n",
    "</div>\n",
    "\n",
    "## Instrucciones de entrega\n",
    "\n",
    "Para proceder a la entrega de la actividad es necesario realizar los siguientes pasos:\n",
    "\n",
    "1. Comprobad que el notebook se ejecuta correctamente en la máquina virtual. Es importante que antes de entregar vuestra PEC os aseguréis que la versión final del código ejecuta correctamente en su totalidad. Para ello, se recomienda hacer una ejecución completa desde cero del notebook haciendo click en *Kernel &gt; Restart & Run All* y comprobando que todas las celdas del notebook se ejecutan correctamente.\n",
    "2. Activad las alertas de estilo y comprobad que el código sigue las convenciones de estilo de Python. Si es necesario, modificad el código para adecuarlo a dichas convenciones de estilo.\n",
    "3. Confirmad que sois los autores únicos de la PEC y que esta incluye todas las citas a recursos externos que se hayan utilizado para elaborarla. Con el fin de confirmar que sois los autores únicos de la actividad, añadid vuestro nombre completo en la celda siguiente.\n",
    "4. Cread un archivo comprimido que incluya todos los archivos de la PEC (tanto el fichero con el notebook, con extensión .ipynb, como las carpetas con los datos que sean necesarios para ejecutarlo). Aseguraos de que se puede descomprimir este archivo en cualquier directorio del ordenador y que el código se ejecuta sin problemas.\n",
    "5. Entregad la PEC a través del Registro de Evaluación Continua del aula."
   ]
  },
  {
   "cell_type": "markdown",
   "metadata": {
    "id": "ok8wsTRJkYK9"
   },
   "source": [
    "<div class=\"alert alert-block alert-warning\">Yo, *Álvaro Loarte Rodríguez*, confirmo que he elaborado de forma individual todas las actividades resueltas en esta PEC y que he incluido las citas a todas las fuentes externas que he utilizado para resolver las actividades. </div>"
   ]
  },
  {
   "cell_type": "code",
   "execution_count": null,
   "metadata": {
    "id": "K2hTknZ0kYK-"
   },
   "outputs": [],
   "source": [
    "%load_ext pycodestyle_magic"
   ]
  },
  {
   "cell_type": "markdown",
   "metadata": {
    "id": "RQhaIamMkYK-"
   },
   "source": [
    "Podéis activar las alertas de estilo descomentando la línea de código siguiente. Hemos detectado algunos errores en ciertas construcciones de código al ejecutar este módulo. Si al descomentar esta línea el código se generan errores en algún bloque de código, puede ser debido a que a veces pycodestyle no informa correctamente del problema de estilo detectado, sino que genera una excepción. Podéis revisar la guía de estilos de PEP8 para intentar detectar la instrucción que no cumple la guía o contactar con el profesor colaborador de vuestra aula para valorar alternativas."
   ]
  },
  {
   "cell_type": "code",
   "execution_count": null,
   "metadata": {
    "id": "Kf4Xfqe_kYK-"
   },
   "outputs": [],
   "source": [
    "# Activamos las alertas de estilo\n",
    "%pycodestyle_on"
   ]
  },
  {
   "cell_type": "markdown",
   "metadata": {
    "id": "Cl3FK-JWkYK-"
   },
   "source": [
    "---\n",
    "\n",
    "## Ejercicio 1\n",
    "\n",
    "Contestad brevemente las siguientes preguntas.\n",
    "\n",
    "1. Ordenad las siguientes funciones en función de su orden de crecimiento, considerando en primer lugar las que tienen un orden de crecimiento inferior. (**0.5 puntos**)\n",
    "\n",
    "  - $3^{2n}$\n",
    "  - $n^4 + 2*n$\n",
    "  - $log(n)$\n",
    "  - $n*log(n)$\n",
    "  - $2*n^2 + 3*n + 4$\n",
    "  - $1^n$\n",
    "  - $e^n$"
   ]
  },
  {
   "cell_type": "markdown",
   "metadata": {
    "id": "-K0ESonSkYK-"
   },
   "source": [
    "**Respuesta**\n",
    "  - $1^n$ - $\\Theta{(1)} $: algoritmo de tiempo constante\n",
    "  - $log(n)$ - $\\Theta{(log(n))} $: algoritmo logarítmico\n",
    "  - $n*log(n)$ - $\\Theta{(n*log(n))} $: algoritmo casi-lineal\n",
    "  - $2*n^2 + 3*n + 4$ - $\\Theta{(n^2)} $: algoritmo cuadrático\n",
    "  - $n^4 + 2*n$ - $\\Theta{(n^a)} $: algoritmo multinomial (a> 2)\n",
    "  - $e^n$ - $\\Theta{(e^n)} $: algoritmo exponencial con base e\n",
    "  - $3^{2n} - $\\Theta{(e^n)} $: algoritmo exponencial con base 3 > e\n",
    "\n",
    "Según la documentación del módulo 4-Optimización, complejidad y profiling, he reconocido cada uno de los algoritmos. En esta web he podido ver la representación\n",
    "de cada una de las funciones y, con ello, he ordenado las funciones por orden de crecimiento analizando su comportamiento asintótico.\n",
    "\n",
    "https://es.symbolab.com/solver/hyperbola-asymptotes-calculator\n"
   ]
  },
  {
   "cell_type": "markdown",
   "metadata": {
    "id": "Eq-2sLOlkYK-"
   },
   "source": [
    "2. Determinad que pares de funciones presentan un orden de crecimiento similar entre los dos conjuntos siguientes. (**0.5 puntos**)\n",
    "\n",
    "  Conjunto (a)\n",
    "  - $log_2(3n) + 10$\n",
    "  - $9n*log_{10}(n)$\n",
    "  - $2n + log(n)$\n",
    "  - $6n^2 + 2$\n",
    "\n",
    "  Conjunto (b)\n",
    "  - $n$\n",
    "  - $log_{10}(n)$\n",
    "  - $n^2 - 1$\n",
    "  - $n*log_2(2n)$"
   ]
  },
  {
   "cell_type": "markdown",
   "metadata": {
    "id": "RTu5BaIokYK_"
   },
   "source": [
    "**Respuesta**\n",
    "Lo primero que necesito hacer es descomponer cada función en elementos más simples para analizar el orden de las mismas:\n",
    "Conjunto (a)\n",
    "  - $log_2(3n) + 10$ = log_2(3) + log_2(n) = El logaritmo de un número es constante, esencialmente esto es $\\Theta{(log(n))} $\n",
    "  - $9n*log_{10}(n)$ = Esto es un algoritmo lineal mas uno logarítmico, del orden de $\\Theta{(n*log(n))} $  \n",
    "  - $2n + log(n)$ = 2n domina el algoritmo, ya que log(n) tiene un crecimiento asintótico muy reducido. Es del orden de $\\Theta{(n)}$ \n",
    "  - $6n^2 + 2$ = Es un algoritmo cuadrático, $\\Theta{(n^2)} $\n",
    "\n",
    "  Conjunto (b)\n",
    "  - $n$ =   $\\Theta{(n)} $\n",
    "  - $log_{10}(n)$ = $\\Theta{(log(n))} $\n",
    "  - $n^2 - 1$ =  Es un algoritmo cuadrático, $\\Theta{(n^2)} $\n",
    "  - $n*log_2(2n)$ = $\\Theta{(n*log(n))} $\n",
    "  \n",
    "Por tanto, quedaría de la siguiente forma:\n",
    "  - A1 - B2: $\\Theta{(log(n))} $\n",
    "  - A2 - B4: $\\Theta{(n*log(n))} $\n",
    "  - A3 - B1: $\\Theta{(n)} $ \n",
    "  - A4 - B3: $\\Theta{(n^2)} $\n",
    "    "
   ]
  },
  {
   "cell_type": "markdown",
   "metadata": {
    "id": "LlKublbekYK_"
   },
   "source": [
    "## Ejercicio 2\n",
    "\n",
    "Estudiad la complejidad algoritmica, considerando el caso peor, en relación al tiempo de ejecución del algoritmo de ordenación por selección. ¿Podemos utilizar la notación $\\Theta$ para referirnos a la complejidad del código analizado? En caso afirmativo, mostrad gráficamente el orden de crecimiento de la función juntamente con una función que haga de límite superior y otra que haga de límite inferior.\n",
    "\n",
    "**Nota**: Recordad repasar la sección 2.2.3. Notaciones y definiciones formales del Notebook de teoría.\n",
    "\n",
    "<span style=\"font-family: Courier New; background-color: #82b74b; color: #000000; padding: 3px; \">NM</span> **(2 puntos)**"
   ]
  },
  {
   "cell_type": "code",
   "execution_count": null,
   "metadata": {
    "id": "XV7FjP3gkYK_"
   },
   "outputs": [],
   "source": [
    "def sort_selection(list_1):\n",
    "    \"\"\"\n",
    "    Sorts a list using the selection sort algorithm.\n",
    "    Args:\n",
    "        list (list): The list you want to sort.\n",
    "    Returns:\n",
    "        list: The ordered list.\n",
    "    \"\"\"\n",
    "    n = len(list_1)\n",
    "    for i in range(n):\n",
    "        min_index = i\n",
    "        for j in range(i + 1, n):\n",
    "            if list_1[j] < list_1[min_index]:\n",
    "                min_index = j\n",
    "        list_1[i], list_1[min_index] = list_1[min_index], list_1[i]\n",
    "    return list_1"
   ]
  },
  {
   "cell_type": "markdown",
   "metadata": {
    "id": "ZsROl3l6kYK_"
   },
   "source": [
    "**Respuesta**\n"
   ]
  },
  {
   "cell_type": "code",
   "execution_count": null,
   "metadata": {
    "id": "5Belpj4vkYK_"
   },
   "outputs": [],
   "source": []
  },
  {
   "cell_type": "markdown",
   "metadata": {
    "id": "LVfc_yR3kYK_"
   },
   "source": [
    "## Ejercicio 3\n",
    "\n",
    "En este ejercicio, analizaréis un fragmento de código con el objetivo de detectar las ineficiencias y después mejorarlo.\n",
    "\n",
    "1. Utilizando las herramientas de *profiling* que hemos visto en el Notebook de teoría, analizad el siguiente fragmento de código ineficiente y encontrad cual es el cuello de botella. Explicad las ineficiencias que habéis detectado, relacionándolas con los resultados obtenidos en el *profiling*.\n",
    "\n",
    "2. Mejorad el código con el objetivo de reducir el tiempo de ejecución. Comprobad que el resultado de vuestra propuesta es equivalente al original.\n",
    "\n",
    "Para conseguir la puntuación máxima es importante explicar las ineficiencias detectadas tal y como se pide en el punto 1. No basta con mejorar el código.\n",
    "\n",
    "**Nota**: Para resolver el ejercicio no podéis utilizar librerías como `pandas` o `numpy` que incorporan una funcionalidad similar.\n",
    "\n",
    "<span style=\"font-family: Courier New; background-color: #ffcc5c; color: #000000; padding: 3px; \">EG</span> **(1.5 puntos)**"
   ]
  },
  {
   "cell_type": "code",
   "execution_count": null,
   "metadata": {
    "id": "zqDdKmk5kYK_"
   },
   "outputs": [],
   "source": [
    "text = \"In the year 2024, the population of Earth reached a staggering 8 billion people. Among them, 3.5 billion had access to the internet, connecting through approximately 2.5 billion smartphones worldwide. The global economy grew by 3.2%, reaching a GDP of $92 trillion. However, amidst this growth, there were challenges: 1.2 billion people still lived below the poverty line, while carbon emissions rose by 5% compared to the previous year, reaching 40 billion metric tons. Despite these figures, there were signs of progress, with renewable energy sources accounting for 30% of the total energy consumption. As we move forward, these numbers serve as both a measure of achievement and a reminder of the work that lies ahead.\"*10000"
   ]
  },
  {
   "cell_type": "code",
   "execution_count": null,
   "metadata": {
    "id": "lWR_szyxkYLA"
   },
   "outputs": [],
   "source": [
    "def count_digits(string):\n",
    "    \"\"\"Returns the number of digits in a text.\n",
    "\n",
    "    Args:\n",
    "        string: a text string.\n",
    "\n",
    "    Returns:\n",
    "        Number of digits.\n",
    "    \"\"\"\n",
    "    digits = 0\n",
    "    for i in range(len(string)):\n",
    "        if string[i] == '0':\n",
    "            digits += 1\n",
    "        if string[i] == '1':\n",
    "            digits += 1\n",
    "        if string[i] == '2':\n",
    "            digits += 1\n",
    "        if string[i] == '3':\n",
    "            digits += 1\n",
    "        if string[i] == '4':\n",
    "            digits += 1\n",
    "        if string[i] == '5':\n",
    "            digits += 1\n",
    "        if string[i] == '6':\n",
    "            digits += 1\n",
    "        if string[i] == '7':\n",
    "            digits += 1\n",
    "        if string[i] == '8':\n",
    "            digits += 1\n",
    "        if string[i] == '9':\n",
    "            digits += 1\n",
    "\n",
    "    return digits"
   ]
  },
  {
   "cell_type": "markdown",
   "metadata": {
    "id": "ifHGI94YkYLA"
   },
   "source": [
    "**Respuesta**\n"
   ]
  },
  {
   "cell_type": "code",
   "execution_count": null,
   "metadata": {
    "id": "qHysppD9kYLA"
   },
   "outputs": [],
   "source": []
  },
  {
   "cell_type": "markdown",
   "metadata": {
    "id": "gibtv9-vkYLA"
   },
   "source": [
    "## Ejercicio 4\n",
    "\n",
    "En este ejercicio, analizaréis un fragmento de código con el objetivo de detectar las ineficiencias y después mejorarlo.\n",
    "\n",
    "1. Utilizando las herramientas de *profiling* que hemos visto en el Notebook de teoría, analizad el siguiente fragmento de código ineficiente y encontrad cual es el cuello de botella. Explicad las ineficiencias que habéis detectado, relacionándolas con los resultados obtenidos en el *profiling*.\n",
    "\n",
    "2. Mejorad el código con el objetivo de reducir el tiempo de ejecución. Comprobad que el resultado de vuestra propuesta es equivalente al original.\n",
    "\n",
    "Para conseguir la puntuación máxima es importante explicar las ineficiencias detectadas tal y como se pide en el punto 1. No basta con mejorar el código.\n",
    "\n",
    "<span style=\"font-family: Courier New; background-color: #ffcc5c; color: #000000; padding: 3px; \">EG</span> **(1.5 puntos)**"
   ]
  },
  {
   "cell_type": "code",
   "execution_count": null,
   "metadata": {
    "id": "5hthA4lYkYLA"
   },
   "outputs": [],
   "source": [
    "def repetitions(array):\n",
    "    \"\"\"Returns repeated elements in the array.\n",
    "\n",
    "    Parameters:\n",
    "        array: input array for counting repeated elements.\n",
    "\n",
    "    Returns:\n",
    "        list: list of duplicate elements.\n",
    "\n",
    "    \"\"\"\n",
    "\n",
    "    repeated = []\n",
    "    i = 0\n",
    "\n",
    "    while i < len(array):\n",
    "        j = i + 1\n",
    "        while j < len(array):\n",
    "            if array[i] == array[j]:\n",
    "\n",
    "                counted = False\n",
    "                for item in repeated:\n",
    "                    if item == array[i]:\n",
    "                        counted = True\n",
    "                        break\n",
    "\n",
    "                if not counted:\n",
    "                    repeated.append(array[i])\n",
    "\n",
    "            j = j + 1\n",
    "\n",
    "        i = i + 1\n",
    "\n",
    "    return repeated"
   ]
  },
  {
   "cell_type": "markdown",
   "metadata": {
    "id": "I5JllGQ1kYLA"
   },
   "source": [
    "**Respuesta**\n"
   ]
  },
  {
   "cell_type": "code",
   "execution_count": null,
   "metadata": {
    "id": "DFqyK6WbkYLA"
   },
   "outputs": [],
   "source": [
    "import numpy as np\n",
    "\n",
    "input_array = list(np.random.randint(1, 100, 10000))"
   ]
  },
  {
   "cell_type": "code",
   "execution_count": null,
   "metadata": {
    "id": "3slSO5_ekYLA"
   },
   "outputs": [],
   "source": []
  },
  {
   "cell_type": "markdown",
   "metadata": {
    "id": "-2blb9X8kYLA"
   },
   "source": [
    "## Ejercicio 5\n",
    "\n",
    "Un concesionario está haciendo un análisis de los precios de mercado de distintos vehículos y nos ha contratado para llevar a cabo un proyecto. Para ello nos basaremos en un fichero CSV que está disponible en `data/car_prices.csv`.\n",
    "\n",
    "Además, como la empresa sufrió un ciberataque recientemente, temen que las librerías externas puedan estar infectadas, por lo que no se puede hacer uso de librerías como `pandas` (sí nos permite utilizar `numpy` y `matplotlib`).\n",
    "\n",
    "Lo que se nos pide como parte del proyecto es:\n",
    "\n",
    "1. Mostrar dos gráficas diferentes con las siguientes condiciones:\n",
    "\n",
    "- Agrupar por la variable fabricante (`make`) en el cual se muestre el número de coches con transmisión automática (`transmission = automatic`) y cuyos valores `MMR` y `sellingprice` sean superiores a 10000 dólares.\n",
    "\n",
    "- Agrupar por la variable fabricante (`make`) en el cual se muestre el número de coches con transmisión automática (`transmission = manual`) y cuyos valores `MMR` y `sellingprice` sean superiores a 10000 dólares.\n",
    "\n",
    "Ambas gráficas tienen que ser un gráfico barras con el número de coches de cada fabricante que cumplan las características anteriores, ordenados en sentido descendente.\n",
    " (0.5 puntos)\n",
    "\n",
    "\n",
    "2. La empresa nos pide que creemos un fichero CSV por fabricante en el que se vincule cada identificador `vin` con el modelo que le corresponde. La estructura del CSV es la siguiente: `vin,model`\n",
    "\n",
    "Como prueba de concepto nos piden hacer un implementación **secuencial**, es decir, sin tener en cuenta las capacidades de multiprocesamiento de nuestras máquinas. (1 punto)\n",
    "\n",
    "3. Como preveemos que vamos a conseguir más datos, queremos hacer un estudio de la reducción del tiempo de ejecución si utilizamos múltiples threads o múltiples procesadores. Se nos pide:\n",
    "\n",
    "    a. Una implementación utilizando múltiples **threads** del punto anterior.\n",
    "\n",
    "    b. Una implementación utilizando múltiples **procesadores** del punto anterior.\n",
    "\n",
    "(1 punto)\n",
    "\n",
    "4. ¿Cuál de las dos implementaciones anteriores es la más eficiente variando el número de threads/procesos entre `1` y `4`? Justificad brevemente vuestra respuesta. (0.5 puntos)\n",
    "\n",
    "\n",
    "**Nota:** Python 3 incluye las clases `ThreadPoolExecutor` y `ProcessPoolExecutor` para facilitar la ejecución del código en múltiples *threads* o procesos. Os pueden resultar útiles para resolver este ejercicio y podéis encontrar la documentación oficial en el [enlace](https://docs.python.org/3/library/concurrent.futures.html) siguiente.\n",
    "\n",
    "**Nota 2:** Para escribir a un fichero CSV os recomendamos el módulo `csv` de Python, del cual encontraréis la documentación en https://docs.python.org/3/library/csv.html.\n",
    "\n",
    "<span style=\"font-family: Courier New; background-color: #ffcc5c; color: #000000; padding: 3px; \">EG</span> **(3 puntos)**\n"
   ]
  },
  {
   "cell_type": "markdown",
   "metadata": {
    "id": "f_lk-cC1kYLA"
   },
   "source": [
    "**Respuesta**\n"
   ]
  },
  {
   "cell_type": "code",
   "execution_count": null,
   "metadata": {
    "id": "VU5KHCUKkYLB"
   },
   "outputs": [],
   "source": []
  }
 ],
 "metadata": {
  "colab": {
   "provenance": []
  },
  "kernelspec": {
   "display_name": "Python 3 (ipykernel)",
   "language": "python",
   "name": "python3"
  },
  "language_info": {
   "codemirror_mode": {
    "name": "ipython",
    "version": 3
   },
   "file_extension": ".py",
   "mimetype": "text/x-python",
   "name": "python",
   "nbconvert_exporter": "python",
   "pygments_lexer": "ipython3",
   "version": "3.11.4"
  }
 },
 "nbformat": 4,
 "nbformat_minor": 0
}
